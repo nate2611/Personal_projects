{
 "cells": [
  {
   "cell_type": "markdown",
   "metadata": {},
   "source": [
    "## Data formatting - TikTok"
   ]
  },
  {
   "cell_type": "code",
   "execution_count": 1,
   "metadata": {},
   "outputs": [],
   "source": [
    "import pandas as pd \n",
    "import matplotlib.pyplot as plt \n",
    "import seaborn as sns\n"
   ]
  },
  {
   "cell_type": "code",
   "execution_count": 3,
   "metadata": {},
   "outputs": [],
   "source": [
    "#Importing the datasets\n",
    "df_2020=pd.read_excel('2020.xlsx')\n",
    "df_2021=pd.read_excel('2021.xlsx')\n",
    "df_2022_2023=pd.read_excel('Mar-2022 - Jun-2023.xlsx')"
   ]
  },
  {
   "cell_type": "code",
   "execution_count": 4,
   "metadata": {},
   "outputs": [
    {
     "name": "stdout",
     "output_type": "stream",
     "text": [
      "<class 'pandas.core.frame.DataFrame'>\n",
      "RangeIndex: 335 entries, 0 to 334\n",
      "Data columns (total 25 columns):\n",
      " #   Column                   Non-Null Count  Dtype  \n",
      "---  ------                   --------------  -----  \n",
      " 0   Campaign name            335 non-null    object \n",
      " 1   Date                     335 non-null    object \n",
      " 2   Ad Group Name            335 non-null    object \n",
      " 3   Ad Name                  335 non-null    object \n",
      " 4   Promotion Type           335 non-null    object \n",
      " 5   Pacing                   335 non-null    object \n",
      " 6   Creative                 335 non-null    object \n",
      " 7   Objective                335 non-null    object \n",
      " 8   Cost                     335 non-null    float64\n",
      " 9   Impression               335 non-null    int64  \n",
      " 10  Clicks (Destination)     335 non-null    int64  \n",
      " 11  Reach                    335 non-null    int64  \n",
      " 12  Video views              335 non-null    int64  \n",
      " 13  2-Second Video Views     335 non-null    int64  \n",
      " 14  Video Views at 100%      335 non-null    int64  \n",
      " 15  Video Views at 75%       335 non-null    int64  \n",
      " 16  Video Views at 50%       335 non-null    int64  \n",
      " 17  Video Views at 25%       335 non-null    int64  \n",
      " 18  Paid Followers           335 non-null    int64  \n",
      " 19  Paid Likes               335 non-null    int64  \n",
      " 20  Paid Comments            335 non-null    int64  \n",
      " 21  Paid Shares              335 non-null    int64  \n",
      " 22  Paid Profile Visits      335 non-null    int64  \n",
      " 23  Paid Profile Visit Rate  335 non-null    float64\n",
      " 24  Currency                 335 non-null    object \n",
      "dtypes: float64(2), int64(14), object(9)\n",
      "memory usage: 65.6+ KB\n"
     ]
    }
   ],
   "source": [
    "df_2020.info()"
   ]
  },
  {
   "cell_type": "code",
   "execution_count": 5,
   "metadata": {},
   "outputs": [
    {
     "data": {
      "text/plain": [
       "Index(['Campaign name', 'Date', 'Ad Group Name', 'Ad Name', 'Promotion Type',\n",
       "       'Pacing', 'Creative', 'Objective', 'Cost', 'Impression',\n",
       "       'Clicks (Destination)', 'Reach', 'Video views', '2-Second Video Views',\n",
       "       'Video Views at 100%', 'Video Views at 75%', 'Video Views at 50%',\n",
       "       'Video Views at 25%', 'Paid Followers', 'Paid Likes', 'Paid Comments',\n",
       "       'Paid Shares', 'Paid Profile Visits', 'Paid Profile Visit Rate',\n",
       "       'Currency'],\n",
       "      dtype='object')"
      ]
     },
     "execution_count": 5,
     "metadata": {},
     "output_type": "execute_result"
    }
   ],
   "source": [
    "df_2020.columns"
   ]
  },
  {
   "cell_type": "code",
   "execution_count": 6,
   "metadata": {},
   "outputs": [],
   "source": [
    "#Changing column names\n",
    "df_2020['Clicks']=df_2020['Clicks (Destination)']\n",
    "df_2020.drop(columns='Clicks (Destination)', inplace=True)"
   ]
  },
  {
   "cell_type": "code",
   "execution_count": 7,
   "metadata": {},
   "outputs": [
    {
     "name": "stdout",
     "output_type": "stream",
     "text": [
      "<class 'pandas.core.frame.DataFrame'>\n",
      "RangeIndex: 453 entries, 0 to 452\n",
      "Data columns (total 25 columns):\n",
      " #   Column                   Non-Null Count  Dtype  \n",
      "---  ------                   --------------  -----  \n",
      " 0   Campaign name            453 non-null    object \n",
      " 1   Date                     453 non-null    object \n",
      " 2   Ad Group Name            453 non-null    object \n",
      " 3   Ad Name                  453 non-null    object \n",
      " 4   Promotion Type           453 non-null    object \n",
      " 5   Pacing                   453 non-null    object \n",
      " 6   Creative                 453 non-null    object \n",
      " 7   Objective                453 non-null    object \n",
      " 8   Cost                     453 non-null    float64\n",
      " 9   Impression               453 non-null    int64  \n",
      " 10  Clicks (Destination)     453 non-null    int64  \n",
      " 11  Reach                    453 non-null    int64  \n",
      " 12  Video views              453 non-null    int64  \n",
      " 13  2-Second Video Views     453 non-null    int64  \n",
      " 14  Video Views at 100%      453 non-null    int64  \n",
      " 15  Video Views at 75%       453 non-null    int64  \n",
      " 16  Video Views at 50%       453 non-null    int64  \n",
      " 17  Video Views at 25%       453 non-null    int64  \n",
      " 18  Paid Followers           453 non-null    int64  \n",
      " 19  Paid Likes               453 non-null    int64  \n",
      " 20  Paid Comments            453 non-null    int64  \n",
      " 21  Paid Shares              453 non-null    int64  \n",
      " 22  Paid Profile Visits      453 non-null    int64  \n",
      " 23  Paid Profile Visit Rate  453 non-null    int64  \n",
      " 24  Currency                 453 non-null    object \n",
      "dtypes: float64(1), int64(15), object(9)\n",
      "memory usage: 88.6+ KB\n"
     ]
    }
   ],
   "source": [
    "df_2021.info()"
   ]
  },
  {
   "cell_type": "code",
   "execution_count": 8,
   "metadata": {},
   "outputs": [],
   "source": [
    "#Changing column names\n",
    "df_2021['Clicks']=df_2021['Clicks (Destination)']\n",
    "df_2021.drop(columns='Clicks (Destination)', inplace=True)"
   ]
  },
  {
   "cell_type": "code",
   "execution_count": 9,
   "metadata": {},
   "outputs": [
    {
     "name": "stdout",
     "output_type": "stream",
     "text": [
      "<class 'pandas.core.frame.DataFrame'>\n",
      "RangeIndex: 2938 entries, 0 to 2937\n",
      "Data columns (total 25 columns):\n",
      " #   Column                   Non-Null Count  Dtype  \n",
      "---  ------                   --------------  -----  \n",
      " 0   Campaign name            2938 non-null   object \n",
      " 1   Date                     2938 non-null   object \n",
      " 2   Ad Group Name            2938 non-null   object \n",
      " 3   Ad Name                  2938 non-null   object \n",
      " 4   Promotion Type           2938 non-null   object \n",
      " 5   Pacing                   2938 non-null   object \n",
      " 6   Creative                 2938 non-null   object \n",
      " 7   Objective                2938 non-null   object \n",
      " 8   Cost                     2938 non-null   float64\n",
      " 9   Impression               2938 non-null   int64  \n",
      " 10  Click                    2938 non-null   int64  \n",
      " 11  Reach                    2938 non-null   int64  \n",
      " 12  Video views              2938 non-null   int64  \n",
      " 13  2-Second Video Views     2938 non-null   int64  \n",
      " 14  Video Views at 100%      2938 non-null   int64  \n",
      " 15  Video Views at 75%       2938 non-null   int64  \n",
      " 16  Video Views at 50%       2938 non-null   int64  \n",
      " 17  Video Views at 25%       2938 non-null   int64  \n",
      " 18  Paid Followers           2938 non-null   int64  \n",
      " 19  Paid Likes               2938 non-null   int64  \n",
      " 20  Paid Comments            2938 non-null   int64  \n",
      " 21  Paid Shares              2938 non-null   int64  \n",
      " 22  Paid Profile Visits      2938 non-null   int64  \n",
      " 23  Paid Profile Visit Rate  2938 non-null   int64  \n",
      " 24  Unnamed: 24              72 non-null     object \n",
      "dtypes: float64(1), int64(15), object(9)\n",
      "memory usage: 574.0+ KB\n"
     ]
    }
   ],
   "source": [
    "df_2022_2023.info()"
   ]
  },
  {
   "cell_type": "code",
   "execution_count": 10,
   "metadata": {},
   "outputs": [
    {
     "data": {
      "text/plain": [
       "Index(['Campaign name', 'Date', 'Ad Group Name', 'Ad Name', 'Promotion Type',\n",
       "       'Pacing', 'Creative', 'Objective', 'Cost', 'Impression', 'Click',\n",
       "       'Reach', 'Video views', '2-Second Video Views', 'Video Views at 100%',\n",
       "       'Video Views at 75%', 'Video Views at 50%', 'Video Views at 25%',\n",
       "       'Paid Followers', 'Paid Likes', 'Paid Comments', 'Paid Shares',\n",
       "       'Paid Profile Visits', 'Paid Profile Visit Rate', 'Unnamed: 24'],\n",
       "      dtype='object')"
      ]
     },
     "execution_count": 10,
     "metadata": {},
     "output_type": "execute_result"
    }
   ],
   "source": [
    "df_2022_2023.columns"
   ]
  },
  {
   "cell_type": "code",
   "execution_count": 11,
   "metadata": {},
   "outputs": [],
   "source": [
    "#Changing column names\n",
    "df_2022_2023['Clicks']=df_2022_2023['Click']\n",
    "df_2022_2023.drop(columns='Click', inplace=True)"
   ]
  },
  {
   "cell_type": "code",
   "execution_count": 9,
   "metadata": {},
   "outputs": [
    {
     "name": "stdout",
     "output_type": "stream",
     "text": [
      "<class 'pandas.core.frame.DataFrame'>\n",
      "RangeIndex: 4866 entries, 0 to 4865\n",
      "Data columns (total 25 columns):\n",
      " #   Column                   Non-Null Count  Dtype  \n",
      "---  ------                   --------------  -----  \n",
      " 0   Campaign name            4866 non-null   object \n",
      " 1   Date                     4866 non-null   object \n",
      " 2   Ad Group Name            4866 non-null   object \n",
      " 3   Ad Name                  4866 non-null   object \n",
      " 4   Promotion Type           4866 non-null   object \n",
      " 5   Pacing                   4866 non-null   object \n",
      " 6   Creative                 4866 non-null   object \n",
      " 7   Objective                4866 non-null   object \n",
      " 8   Cost                     4866 non-null   float64\n",
      " 9   Impression               4866 non-null   int64  \n",
      " 10  Click                    4866 non-null   int64  \n",
      " 11  Reach                    4866 non-null   int64  \n",
      " 12  Video views              4866 non-null   int64  \n",
      " 13  2-Second Video Views     4866 non-null   int64  \n",
      " 14  Video Views at 100%      4866 non-null   int64  \n",
      " 15  Video Views at 75%       4866 non-null   int64  \n",
      " 16  Video Views at 50%       4866 non-null   int64  \n",
      " 17  Video Views at 25%       4866 non-null   int64  \n",
      " 18  Paid Followers           4866 non-null   int64  \n",
      " 19  Paid Likes               4866 non-null   int64  \n",
      " 20  Paid Comments            4866 non-null   int64  \n",
      " 21  Paid Shares              4866 non-null   int64  \n",
      " 22  Paid Profile Visits      4866 non-null   int64  \n",
      " 23  Paid Profile Visit Rate  4866 non-null   int64  \n",
      " 24  Model                    3019 non-null   object \n",
      "dtypes: float64(1), int64(15), object(9)\n",
      "memory usage: 950.5+ KB\n"
     ]
    }
   ],
   "source": [
    "df.info()"
   ]
  },
  {
   "cell_type": "code",
   "execution_count": 12,
   "metadata": {},
   "outputs": [
    {
     "name": "stdout",
     "output_type": "stream",
     "text": [
      "<class 'pandas.core.frame.DataFrame'>\n",
      "RangeIndex: 3726 entries, 0 to 3725\n",
      "Data columns (total 26 columns):\n",
      " #   Column                   Non-Null Count  Dtype  \n",
      "---  ------                   --------------  -----  \n",
      " 0   Campaign name            3726 non-null   object \n",
      " 1   Date                     3726 non-null   object \n",
      " 2   Ad Group Name            3726 non-null   object \n",
      " 3   Ad Name                  3726 non-null   object \n",
      " 4   Promotion Type           3726 non-null   object \n",
      " 5   Pacing                   3726 non-null   object \n",
      " 6   Creative                 3726 non-null   object \n",
      " 7   Objective                3726 non-null   object \n",
      " 8   Cost                     3726 non-null   float64\n",
      " 9   Impression               3726 non-null   int64  \n",
      " 10  Reach                    3726 non-null   int64  \n",
      " 11  Video views              3726 non-null   int64  \n",
      " 12  2-Second Video Views     3726 non-null   int64  \n",
      " 13  Video Views at 100%      3726 non-null   int64  \n",
      " 14  Video Views at 75%       3726 non-null   int64  \n",
      " 15  Video Views at 50%       3726 non-null   int64  \n",
      " 16  Video Views at 25%       3726 non-null   int64  \n",
      " 17  Paid Followers           3726 non-null   int64  \n",
      " 18  Paid Likes               3726 non-null   int64  \n",
      " 19  Paid Comments            3726 non-null   int64  \n",
      " 20  Paid Shares              3726 non-null   int64  \n",
      " 21  Paid Profile Visits      3726 non-null   int64  \n",
      " 22  Paid Profile Visit Rate  3726 non-null   float64\n",
      " 23  Currency                 788 non-null    object \n",
      " 24  Clicks                   3726 non-null   int64  \n",
      " 25  Unnamed: 24              72 non-null     object \n",
      "dtypes: float64(2), int64(14), object(10)\n",
      "memory usage: 757.0+ KB\n"
     ]
    }
   ],
   "source": [
    "#Concatenate the data \n",
    "df_concat = pd.concat([df_2020, \n",
    "                df_2021,\n",
    "                df_2022_2023\n",
    "                 ], ignore_index=True)\n",
    "df_concat.shape\n",
    "df_concat.info()"
   ]
  },
  {
   "cell_type": "code",
   "execution_count": 13,
   "metadata": {},
   "outputs": [],
   "source": [
    "\n",
    "mask_1 = df_concat['Impression'] < df_concat['Clicks']\n",
    "df_concat= df_concat[~mask_1]\n",
    "mask_2 = (df_concat['Cost'] == 0) & (df_concat['Impression'] > 0)\n",
    "df_concat= df_concat[~mask_2]\n",
    "\n",
    "df_concat.reset_index(drop=True, inplace=True)"
   ]
  },
  {
   "cell_type": "code",
   "execution_count": 14,
   "metadata": {},
   "outputs": [
    {
     "data": {
      "text/plain": [
       "(3625, 26)"
      ]
     },
     "execution_count": 14,
     "metadata": {},
     "output_type": "execute_result"
    }
   ],
   "source": [
    "df_concat.shape"
   ]
  },
  {
   "cell_type": "markdown",
   "metadata": {},
   "source": [
    "## NOTE\n",
    "\n",
    "As you can see, I am keeping df on which I did my initial data exploration and creating a new dataset called df_concat. This is so that I can compare both those datasets distributions and better understand if trends I had suspected on the data sample are confirmed by the full data"
   ]
  },
  {
   "cell_type": "code",
   "execution_count": 15,
   "metadata": {},
   "outputs": [],
   "source": [
    "#format dates\n",
    "df_concat['Date']=df_concat['Date'].astype('datetime64[ns]')\n",
    "#df['Date']=df['Date'].astype('datetime64[ns]')"
   ]
  },
  {
   "cell_type": "code",
   "execution_count": 16,
   "metadata": {},
   "outputs": [],
   "source": [
    "df_concat.sort_values(by=['Date'])\n",
    "df_concat.to_excel('Tiktok_2020_2023.xlsx')"
   ]
  },
  {
   "cell_type": "code",
   "execution_count": null,
   "metadata": {},
   "outputs": [],
   "source": [
    "df.info()"
   ]
  },
  {
   "cell_type": "code",
   "execution_count": 17,
   "metadata": {},
   "outputs": [
    {
     "name": "stdout",
     "output_type": "stream",
     "text": [
      "<class 'pandas.core.frame.DataFrame'>\n",
      "RangeIndex: 3625 entries, 0 to 3624\n",
      "Data columns (total 26 columns):\n",
      " #   Column                   Non-Null Count  Dtype         \n",
      "---  ------                   --------------  -----         \n",
      " 0   Campaign name            3625 non-null   object        \n",
      " 1   Date                     3625 non-null   datetime64[ns]\n",
      " 2   Ad Group Name            3625 non-null   object        \n",
      " 3   Ad Name                  3625 non-null   object        \n",
      " 4   Promotion Type           3625 non-null   object        \n",
      " 5   Pacing                   3625 non-null   object        \n",
      " 6   Creative                 3625 non-null   object        \n",
      " 7   Objective                3625 non-null   object        \n",
      " 8   Cost                     3625 non-null   float64       \n",
      " 9   Impression               3625 non-null   int64         \n",
      " 10  Reach                    3625 non-null   int64         \n",
      " 11  Video views              3625 non-null   int64         \n",
      " 12  2-Second Video Views     3625 non-null   int64         \n",
      " 13  Video Views at 100%      3625 non-null   int64         \n",
      " 14  Video Views at 75%       3625 non-null   int64         \n",
      " 15  Video Views at 50%       3625 non-null   int64         \n",
      " 16  Video Views at 25%       3625 non-null   int64         \n",
      " 17  Paid Followers           3625 non-null   int64         \n",
      " 18  Paid Likes               3625 non-null   int64         \n",
      " 19  Paid Comments            3625 non-null   int64         \n",
      " 20  Paid Shares              3625 non-null   int64         \n",
      " 21  Paid Profile Visits      3625 non-null   int64         \n",
      " 22  Paid Profile Visit Rate  3625 non-null   float64       \n",
      " 23  Currency                 769 non-null    object        \n",
      " 24  Clicks                   3625 non-null   int64         \n",
      " 25  Unnamed: 24              72 non-null     object        \n",
      "dtypes: datetime64[ns](1), float64(2), int64(14), object(9)\n",
      "memory usage: 736.5+ KB\n"
     ]
    }
   ],
   "source": [
    "df_concat.info()"
   ]
  },
  {
   "cell_type": "code",
   "execution_count": 18,
   "metadata": {},
   "outputs": [
    {
     "data": {
      "text/plain": [
       "Video View         2858\n",
       "Traffic             582\n",
       "Reach               116\n",
       "Lead Generation      69\n",
       "Name: Objective, dtype: int64"
      ]
     },
     "execution_count": 18,
     "metadata": {},
     "output_type": "execute_result"
    }
   ],
   "source": [
    "df_concat['Objective'].value_counts()"
   ]
  },
  {
   "cell_type": "markdown",
   "metadata": {},
   "source": [
    "phase=[]\n",
    "\n",
    "for campaign_name in df['Campaign name']:\n",
    "    if 'AWRN' in campaign_name:\n",
    "        phase.append('Awareness')\n",
    "    elif \"CONS\" in campaign_name:\n",
    "        phase.append('Consideration')\n",
    "    elif 'PRCH' in campaign_name or 'Decision' in campaign_name:\n",
    "        phase.append('Decision')\n",
    "    else:\n",
    "        phase.append(None)\n",
    "\n",
    "df['phase']=phase\n"
   ]
  },
  {
   "cell_type": "code",
   "execution_count": 19,
   "metadata": {},
   "outputs": [],
   "source": [
    "phase_concat = []\n",
    "\n",
    "for index, row in df_concat.iterrows():\n",
    "    if pd.notna(row['Campaign name']) and 'AWRN' in row['Campaign name']:\n",
    "        phase_concat.append('Awareness')\n",
    "    elif pd.notna(row['Campaign name']) and 'CONS' in row['Campaign name']:\n",
    "        phase_concat.append('Consideration')\n",
    "    elif pd.notna(row['Campaign name']) and ('CONS' in row['Campaign name'] or 'Decision' in row['Campaign name']):\n",
    "        phase_concat.append('Decision')\n",
    "    elif pd.notna(row['Objective']) and (row['Objective'] == 'Video View' or row['Objective'] == 'Reach'):\n",
    "        phase_concat.append('Awareness')\n",
    "    elif pd.notna(row['Objective']) and row['Objective'] == 'Traffic':\n",
    "        phase_concat.append('Consideration')\n",
    "    elif pd.notna(row['Objective']) and row['Objective'] == 'Lead Generation':\n",
    "        phase_concat.append('Lead Generation')\n",
    "    else:\n",
    "        phase_concat.append(None)\n",
    "\n",
    "df_concat['phase'] = phase_concat\n"
   ]
  },
  {
   "cell_type": "code",
   "execution_count": null,
   "metadata": {},
   "outputs": [],
   "source": [
    "#df['phase'].value_counts()"
   ]
  },
  {
   "cell_type": "code",
   "execution_count": 20,
   "metadata": {},
   "outputs": [
    {
     "data": {
      "text/plain": [
       "Awareness          3162\n",
       "Consideration       394\n",
       "Lead Generation      69\n",
       "Name: phase, dtype: int64"
      ]
     },
     "execution_count": 20,
     "metadata": {},
     "output_type": "execute_result"
    }
   ],
   "source": [
    "df_concat['phase'].value_counts()"
   ]
  },
  {
   "cell_type": "markdown",
   "metadata": {},
   "source": [
    "df_no_zeroes= df[df['Cost'] != 0]\n",
    "df_no_zeroes=df_no_zeroes.sort_values(by=['Date'])\n",
    "df_no_zeroes"
   ]
  },
  {
   "cell_type": "markdown",
   "metadata": {},
   "source": [
    "## Simple distribution plotting and Boxplots"
   ]
  },
  {
   "cell_type": "code",
   "execution_count": null,
   "metadata": {},
   "outputs": [],
   "source": [
    "sns.displot(x=df['Cost'])"
   ]
  },
  {
   "cell_type": "code",
   "execution_count": null,
   "metadata": {},
   "outputs": [],
   "source": [
    "sns.displot(x=df_no_zeroes['Cost'])"
   ]
  },
  {
   "cell_type": "code",
   "execution_count": null,
   "metadata": {},
   "outputs": [],
   "source": [
    "sns.catplot(y='Cost', kind='box', data= df_no_zeroes)"
   ]
  },
  {
   "cell_type": "code",
   "execution_count": null,
   "metadata": {},
   "outputs": [],
   "source": [
    "df_no_zeroes['Cost'].describe()"
   ]
  },
  {
   "cell_type": "code",
   "execution_count": null,
   "metadata": {},
   "outputs": [],
   "source": [
    "sns.catplot(x='phase', y='Cost', kind='box', data= df_no_zeroes)"
   ]
  },
  {
   "cell_type": "code",
   "execution_count": null,
   "metadata": {},
   "outputs": [],
   "source": [
    "# For full dataset\n",
    "\n",
    "sns.displot(x=df_concat['Cost'])\n",
    "plt.show\n",
    "\n",
    "sns.catplot(y='Cost', kind='box', data= df_concat)\n",
    "plt.show\n",
    "\n",
    "sns.catplot(x='phase', y='Cost', kind='box', data= df_concat)\n",
    "plt.show"
   ]
  },
  {
   "cell_type": "code",
   "execution_count": null,
   "metadata": {},
   "outputs": [],
   "source": []
  },
  {
   "cell_type": "markdown",
   "metadata": {},
   "source": [
    "2. Impressions on normal dataset and dataset with no zero spend"
   ]
  },
  {
   "cell_type": "code",
   "execution_count": null,
   "metadata": {},
   "outputs": [],
   "source": [
    "sns.displot(x=df['Impression'])"
   ]
  },
  {
   "cell_type": "code",
   "execution_count": null,
   "metadata": {},
   "outputs": [],
   "source": [
    "sns.displot(x=df_no_zeroes['Impression'])"
   ]
  },
  {
   "cell_type": "code",
   "execution_count": null,
   "metadata": {},
   "outputs": [],
   "source": [
    "sns.catplot(y='Impression', kind='box', data= df_no_zeroes)"
   ]
  },
  {
   "cell_type": "code",
   "execution_count": null,
   "metadata": {},
   "outputs": [],
   "source": [
    "sns.catplot(x='phase', y='Impression', kind='box', data= df_no_zeroes)"
   ]
  },
  {
   "cell_type": "code",
   "execution_count": null,
   "metadata": {},
   "outputs": [],
   "source": [
    "df_no_zeroes['Impression'].describe()"
   ]
  },
  {
   "cell_type": "markdown",
   "metadata": {},
   "source": [
    "3. Clicks"
   ]
  },
  {
   "cell_type": "code",
   "execution_count": null,
   "metadata": {},
   "outputs": [],
   "source": [
    "sns.displot(x=df['Click'])"
   ]
  },
  {
   "cell_type": "code",
   "execution_count": null,
   "metadata": {},
   "outputs": [],
   "source": [
    "sns.displot(x=df_no_zeroes['Click'])"
   ]
  },
  {
   "cell_type": "code",
   "execution_count": null,
   "metadata": {},
   "outputs": [],
   "source": [
    "sns.catplot(y='Impression', kind='box', data= df_no_zeroes)"
   ]
  },
  {
   "cell_type": "code",
   "execution_count": null,
   "metadata": {},
   "outputs": [],
   "source": [
    "df_no_zeroes['Click'].describe()"
   ]
  },
  {
   "cell_type": "code",
   "execution_count": null,
   "metadata": {},
   "outputs": [],
   "source": [
    "df_no_zeroes[df_no_zeroes['Click']==23865]"
   ]
  },
  {
   "cell_type": "markdown",
   "metadata": {},
   "source": [
    "4.Summary"
   ]
  },
  {
   "cell_type": "code",
   "execution_count": null,
   "metadata": {},
   "outputs": [],
   "source": [
    "df_no_zeroes[df_no_zeroes['phase']=='Awareness'].describe()"
   ]
  },
  {
   "cell_type": "code",
   "execution_count": null,
   "metadata": {},
   "outputs": [],
   "source": [
    "df_no_zeroes[df_no_zeroes['phase']=='Consideration'].describe()"
   ]
  },
  {
   "cell_type": "markdown",
   "metadata": {},
   "source": [
    "## Simple Scatter plotting"
   ]
  },
  {
   "cell_type": "code",
   "execution_count": null,
   "metadata": {},
   "outputs": [],
   "source": [
    "cols=['Impression', 'Click']\n",
    "for c in cols:\n",
    "    sns.relplot(x='Cost', y=c, kind='scatter', data=df_no_zeroes)\n",
    "    plt.show()"
   ]
  },
  {
   "cell_type": "code",
   "execution_count": null,
   "metadata": {},
   "outputs": [],
   "source": [
    "cols=['Impression', 'Click']\n",
    "for c in cols:\n",
    "    sns.relplot(x='Cost', y=c, kind='scatter', hue='phase', data=df_no_zeroes)\n",
    "    plt.show()"
   ]
  },
  {
   "cell_type": "code",
   "execution_count": null,
   "metadata": {},
   "outputs": [],
   "source": [
    "phases= pd.get_dummies(df['phase'], prefix='phase')\n",
    "df= pd.concat([df, phases], axis=1)\n",
    "\n",
    "correlation_matrix = df.corr()\n",
    "\n",
    "# Plot the correlation matrix heatmap\n",
    "plt.figure(figsize=(12, 10))\n",
    "sns.heatmap(correlation_matrix, annot=True, cmap='coolwarm')\n",
    "plt.title('Correlation Matrix Heatmap (Top {} Features)'.format(k))\n",
    "plt.show()"
   ]
  },
  {
   "cell_type": "code",
   "execution_count": null,
   "metadata": {},
   "outputs": [],
   "source": [
    "phases= pd.get_dummies(df_no_zeroes['phase'], prefix='phase')\n",
    "df_no_zeroes= pd.concat([df_no_zeroes, phases], axis=1)\n",
    "\n",
    "correlation_matrix = df_no_zeroes.corr()\n",
    "\n",
    "# Plot the correlation matrix heatmap\n",
    "plt.figure(figsize=(12, 10))\n",
    "sns.heatmap(correlation_matrix, annot=True, cmap='coolwarm')\n",
    "plt.title('Correlation Matrix Heatmap (Top {} Features)'.format(k))\n",
    "plt.show()"
   ]
  },
  {
   "cell_type": "markdown",
   "metadata": {},
   "source": [
    "## Line according to time"
   ]
  },
  {
   "cell_type": "code",
   "execution_count": null,
   "metadata": {},
   "outputs": [],
   "source": [
    "columns=['Cost', 'Click', 'Impression']\n",
    "for c in columns:\n",
    "    sns.relplot(x='Date', y=c, data=df, kind='line')"
   ]
  },
  {
   "cell_type": "code",
   "execution_count": null,
   "metadata": {},
   "outputs": [],
   "source": [
    "columns=['Cost', 'Click', 'Impression']\n",
    "for c in columns:\n",
    "    sns.relplot(x='Date', y=c, hue='phase', data=df, kind='line')"
   ]
  },
  {
   "cell_type": "code",
   "execution_count": null,
   "metadata": {},
   "outputs": [],
   "source": [
    "columns=['Cost', 'Clicks', 'Impression']\n",
    "for c in columns:\n",
    "    sns.relplot(x='Date', y=c, data=df_concat, kind='line')\n",
    "    plt.xticks(rotation=45)"
   ]
  },
  {
   "cell_type": "code",
   "execution_count": null,
   "metadata": {},
   "outputs": [],
   "source": [
    "columns=['Cost', 'Clicks', 'Impression']\n",
    "for c in columns:\n",
    "    sns.relplot(x='Date', y=c, hue='phase', data=df_concat, kind='line')\n",
    "    plt.xticks(rotation=45)"
   ]
  },
  {
   "cell_type": "markdown",
   "metadata": {},
   "source": [
    "## Formatting the dataset consistently"
   ]
  },
  {
   "cell_type": "code",
   "execution_count": null,
   "metadata": {},
   "outputs": [],
   "source": [
    "#Formatting in weekly format\n",
    "\n",
    "# Group the data by week and calculate the sum of the ad metrics\n",
    "df_weekly = df.groupby(pd.Grouper(key='Date', freq='W-SUN')).sum()\n",
    "\n",
    "# Reset the index to get the 'week' column\n",
    "df_weekly = df_weekly.reset_index()\n",
    "\n",
    "# Rename the 'date' column to 'week'\n",
    "df_weekly = df_weekly.rename(columns={'Date': 'week_end'})\n",
    "\n",
    "# Add a 'week_number' column ranging from 1 to 52\n",
    "df_weekly['week_number'] = df_weekly['week_end'].dt.week\n",
    "\n",
    "# Display the transformed weekly dataset\n",
    "df_weekly"
   ]
  },
  {
   "cell_type": "code",
   "execution_count": 21,
   "metadata": {},
   "outputs": [
    {
     "name": "stderr",
     "output_type": "stream",
     "text": [
      "/var/folders/p5/9npcw21d3xs054yxn9xh232h0000gn/T/ipykernel_72633/900036192.py:4: FutureWarning: The default value of numeric_only in DataFrameGroupBy.sum is deprecated. In a future version, numeric_only will default to False. Either specify numeric_only or select only columns which should be valid for the function.\n",
      "  df_concat_weekly = df_concat.groupby(pd.Grouper(key='Date', freq='W-SUN')).sum()\n",
      "/var/folders/p5/9npcw21d3xs054yxn9xh232h0000gn/T/ipykernel_72633/900036192.py:13: FutureWarning: Series.dt.weekofyear and Series.dt.week have been deprecated. Please use Series.dt.isocalendar().week instead.\n",
      "  df_concat_weekly['week_number'] = df_concat_weekly['week_end'].dt.week\n"
     ]
    },
    {
     "data": {
      "text/html": [
       "<div>\n",
       "<style scoped>\n",
       "    .dataframe tbody tr th:only-of-type {\n",
       "        vertical-align: middle;\n",
       "    }\n",
       "\n",
       "    .dataframe tbody tr th {\n",
       "        vertical-align: top;\n",
       "    }\n",
       "\n",
       "    .dataframe thead th {\n",
       "        text-align: right;\n",
       "    }\n",
       "</style>\n",
       "<table border=\"1\" class=\"dataframe\">\n",
       "  <thead>\n",
       "    <tr style=\"text-align: right;\">\n",
       "      <th></th>\n",
       "      <th>week_end</th>\n",
       "      <th>Cost</th>\n",
       "      <th>Impression</th>\n",
       "      <th>Reach</th>\n",
       "      <th>Video views</th>\n",
       "      <th>2-Second Video Views</th>\n",
       "      <th>Video Views at 100%</th>\n",
       "      <th>Video Views at 75%</th>\n",
       "      <th>Video Views at 50%</th>\n",
       "      <th>Video Views at 25%</th>\n",
       "      <th>Paid Followers</th>\n",
       "      <th>Paid Likes</th>\n",
       "      <th>Paid Comments</th>\n",
       "      <th>Paid Shares</th>\n",
       "      <th>Paid Profile Visits</th>\n",
       "      <th>Paid Profile Visit Rate</th>\n",
       "      <th>Clicks</th>\n",
       "      <th>week_number</th>\n",
       "    </tr>\n",
       "  </thead>\n",
       "  <tbody>\n",
       "    <tr>\n",
       "      <th>0</th>\n",
       "      <td>2020-10-25</td>\n",
       "      <td>465.61</td>\n",
       "      <td>721836</td>\n",
       "      <td>648993</td>\n",
       "      <td>683604</td>\n",
       "      <td>224302</td>\n",
       "      <td>4727</td>\n",
       "      <td>9411</td>\n",
       "      <td>24432</td>\n",
       "      <td>60717</td>\n",
       "      <td>0</td>\n",
       "      <td>11406</td>\n",
       "      <td>30</td>\n",
       "      <td>14</td>\n",
       "      <td>1967</td>\n",
       "      <td>0.0575</td>\n",
       "      <td>3170</td>\n",
       "      <td>43</td>\n",
       "    </tr>\n",
       "    <tr>\n",
       "      <th>1</th>\n",
       "      <td>2020-11-01</td>\n",
       "      <td>1076.82</td>\n",
       "      <td>1582357</td>\n",
       "      <td>1405246</td>\n",
       "      <td>1486373</td>\n",
       "      <td>366749</td>\n",
       "      <td>8850</td>\n",
       "      <td>16216</td>\n",
       "      <td>35023</td>\n",
       "      <td>102006</td>\n",
       "      <td>0</td>\n",
       "      <td>12719</td>\n",
       "      <td>34</td>\n",
       "      <td>30</td>\n",
       "      <td>5771</td>\n",
       "      <td>0.2218</td>\n",
       "      <td>8131</td>\n",
       "      <td>44</td>\n",
       "    </tr>\n",
       "    <tr>\n",
       "      <th>2</th>\n",
       "      <td>2020-11-08</td>\n",
       "      <td>1950.44</td>\n",
       "      <td>2024319</td>\n",
       "      <td>1744813</td>\n",
       "      <td>1867797</td>\n",
       "      <td>451325</td>\n",
       "      <td>10906</td>\n",
       "      <td>19593</td>\n",
       "      <td>42381</td>\n",
       "      <td>119061</td>\n",
       "      <td>1</td>\n",
       "      <td>9159</td>\n",
       "      <td>78</td>\n",
       "      <td>54</td>\n",
       "      <td>9116</td>\n",
       "      <td>0.2658</td>\n",
       "      <td>11626</td>\n",
       "      <td>45</td>\n",
       "    </tr>\n",
       "    <tr>\n",
       "      <th>3</th>\n",
       "      <td>2020-11-15</td>\n",
       "      <td>950.70</td>\n",
       "      <td>1566050</td>\n",
       "      <td>1316927</td>\n",
       "      <td>1426800</td>\n",
       "      <td>274153</td>\n",
       "      <td>8007</td>\n",
       "      <td>14027</td>\n",
       "      <td>27574</td>\n",
       "      <td>74953</td>\n",
       "      <td>0</td>\n",
       "      <td>5688</td>\n",
       "      <td>34</td>\n",
       "      <td>24</td>\n",
       "      <td>10621</td>\n",
       "      <td>0.2874</td>\n",
       "      <td>13198</td>\n",
       "      <td>46</td>\n",
       "    </tr>\n",
       "    <tr>\n",
       "      <th>4</th>\n",
       "      <td>2020-11-22</td>\n",
       "      <td>568.38</td>\n",
       "      <td>1369027</td>\n",
       "      <td>1127988</td>\n",
       "      <td>1234357</td>\n",
       "      <td>229749</td>\n",
       "      <td>7336</td>\n",
       "      <td>12803</td>\n",
       "      <td>24827</td>\n",
       "      <td>64272</td>\n",
       "      <td>0</td>\n",
       "      <td>5968</td>\n",
       "      <td>45</td>\n",
       "      <td>23</td>\n",
       "      <td>3559</td>\n",
       "      <td>0.0791</td>\n",
       "      <td>13453</td>\n",
       "      <td>47</td>\n",
       "    </tr>\n",
       "    <tr>\n",
       "      <th>...</th>\n",
       "      <td>...</td>\n",
       "      <td>...</td>\n",
       "      <td>...</td>\n",
       "      <td>...</td>\n",
       "      <td>...</td>\n",
       "      <td>...</td>\n",
       "      <td>...</td>\n",
       "      <td>...</td>\n",
       "      <td>...</td>\n",
       "      <td>...</td>\n",
       "      <td>...</td>\n",
       "      <td>...</td>\n",
       "      <td>...</td>\n",
       "      <td>...</td>\n",
       "      <td>...</td>\n",
       "      <td>...</td>\n",
       "      <td>...</td>\n",
       "      <td>...</td>\n",
       "    </tr>\n",
       "    <tr>\n",
       "      <th>136</th>\n",
       "      <td>2023-06-04</td>\n",
       "      <td>1446.40</td>\n",
       "      <td>2850159</td>\n",
       "      <td>2284419</td>\n",
       "      <td>2696677</td>\n",
       "      <td>162388</td>\n",
       "      <td>13816</td>\n",
       "      <td>26495</td>\n",
       "      <td>41224</td>\n",
       "      <td>85559</td>\n",
       "      <td>0</td>\n",
       "      <td>2007</td>\n",
       "      <td>16</td>\n",
       "      <td>33</td>\n",
       "      <td>0</td>\n",
       "      <td>0.0000</td>\n",
       "      <td>4937</td>\n",
       "      <td>22</td>\n",
       "    </tr>\n",
       "    <tr>\n",
       "      <th>137</th>\n",
       "      <td>2023-06-11</td>\n",
       "      <td>0.00</td>\n",
       "      <td>0</td>\n",
       "      <td>0</td>\n",
       "      <td>0</td>\n",
       "      <td>0</td>\n",
       "      <td>0</td>\n",
       "      <td>0</td>\n",
       "      <td>0</td>\n",
       "      <td>0</td>\n",
       "      <td>0</td>\n",
       "      <td>0</td>\n",
       "      <td>0</td>\n",
       "      <td>0</td>\n",
       "      <td>0</td>\n",
       "      <td>0.0000</td>\n",
       "      <td>0</td>\n",
       "      <td>23</td>\n",
       "    </tr>\n",
       "    <tr>\n",
       "      <th>138</th>\n",
       "      <td>2023-06-18</td>\n",
       "      <td>0.00</td>\n",
       "      <td>0</td>\n",
       "      <td>0</td>\n",
       "      <td>0</td>\n",
       "      <td>0</td>\n",
       "      <td>0</td>\n",
       "      <td>0</td>\n",
       "      <td>0</td>\n",
       "      <td>0</td>\n",
       "      <td>0</td>\n",
       "      <td>0</td>\n",
       "      <td>0</td>\n",
       "      <td>0</td>\n",
       "      <td>0</td>\n",
       "      <td>0.0000</td>\n",
       "      <td>0</td>\n",
       "      <td>24</td>\n",
       "    </tr>\n",
       "    <tr>\n",
       "      <th>139</th>\n",
       "      <td>2023-06-25</td>\n",
       "      <td>0.00</td>\n",
       "      <td>0</td>\n",
       "      <td>0</td>\n",
       "      <td>0</td>\n",
       "      <td>0</td>\n",
       "      <td>0</td>\n",
       "      <td>0</td>\n",
       "      <td>0</td>\n",
       "      <td>0</td>\n",
       "      <td>0</td>\n",
       "      <td>0</td>\n",
       "      <td>0</td>\n",
       "      <td>0</td>\n",
       "      <td>0</td>\n",
       "      <td>0.0000</td>\n",
       "      <td>0</td>\n",
       "      <td>25</td>\n",
       "    </tr>\n",
       "    <tr>\n",
       "      <th>140</th>\n",
       "      <td>2023-07-02</td>\n",
       "      <td>1104.13</td>\n",
       "      <td>1666778</td>\n",
       "      <td>1197203</td>\n",
       "      <td>1564942</td>\n",
       "      <td>389749</td>\n",
       "      <td>14019</td>\n",
       "      <td>33330</td>\n",
       "      <td>53230</td>\n",
       "      <td>126375</td>\n",
       "      <td>0</td>\n",
       "      <td>49078</td>\n",
       "      <td>28</td>\n",
       "      <td>37</td>\n",
       "      <td>0</td>\n",
       "      <td>0.0000</td>\n",
       "      <td>2583</td>\n",
       "      <td>26</td>\n",
       "    </tr>\n",
       "  </tbody>\n",
       "</table>\n",
       "<p>141 rows × 18 columns</p>\n",
       "</div>"
      ],
      "text/plain": [
       "      week_end     Cost  Impression    Reach  Video views  \\\n",
       "0   2020-10-25   465.61      721836   648993       683604   \n",
       "1   2020-11-01  1076.82     1582357  1405246      1486373   \n",
       "2   2020-11-08  1950.44     2024319  1744813      1867797   \n",
       "3   2020-11-15   950.70     1566050  1316927      1426800   \n",
       "4   2020-11-22   568.38     1369027  1127988      1234357   \n",
       "..         ...      ...         ...      ...          ...   \n",
       "136 2023-06-04  1446.40     2850159  2284419      2696677   \n",
       "137 2023-06-11     0.00           0        0            0   \n",
       "138 2023-06-18     0.00           0        0            0   \n",
       "139 2023-06-25     0.00           0        0            0   \n",
       "140 2023-07-02  1104.13     1666778  1197203      1564942   \n",
       "\n",
       "     2-Second Video Views  Video Views at 100%  Video Views at 75%  \\\n",
       "0                  224302                 4727                9411   \n",
       "1                  366749                 8850               16216   \n",
       "2                  451325                10906               19593   \n",
       "3                  274153                 8007               14027   \n",
       "4                  229749                 7336               12803   \n",
       "..                    ...                  ...                 ...   \n",
       "136                162388                13816               26495   \n",
       "137                     0                    0                   0   \n",
       "138                     0                    0                   0   \n",
       "139                     0                    0                   0   \n",
       "140                389749                14019               33330   \n",
       "\n",
       "     Video Views at 50%  Video Views at 25%  Paid Followers  Paid Likes  \\\n",
       "0                 24432               60717               0       11406   \n",
       "1                 35023              102006               0       12719   \n",
       "2                 42381              119061               1        9159   \n",
       "3                 27574               74953               0        5688   \n",
       "4                 24827               64272               0        5968   \n",
       "..                  ...                 ...             ...         ...   \n",
       "136               41224               85559               0        2007   \n",
       "137                   0                   0               0           0   \n",
       "138                   0                   0               0           0   \n",
       "139                   0                   0               0           0   \n",
       "140               53230              126375               0       49078   \n",
       "\n",
       "     Paid Comments  Paid Shares  Paid Profile Visits  Paid Profile Visit Rate  \\\n",
       "0               30           14                 1967                   0.0575   \n",
       "1               34           30                 5771                   0.2218   \n",
       "2               78           54                 9116                   0.2658   \n",
       "3               34           24                10621                   0.2874   \n",
       "4               45           23                 3559                   0.0791   \n",
       "..             ...          ...                  ...                      ...   \n",
       "136             16           33                    0                   0.0000   \n",
       "137              0            0                    0                   0.0000   \n",
       "138              0            0                    0                   0.0000   \n",
       "139              0            0                    0                   0.0000   \n",
       "140             28           37                    0                   0.0000   \n",
       "\n",
       "     Clicks  week_number  \n",
       "0      3170           43  \n",
       "1      8131           44  \n",
       "2     11626           45  \n",
       "3     13198           46  \n",
       "4     13453           47  \n",
       "..      ...          ...  \n",
       "136    4937           22  \n",
       "137       0           23  \n",
       "138       0           24  \n",
       "139       0           25  \n",
       "140    2583           26  \n",
       "\n",
       "[141 rows x 18 columns]"
      ]
     },
     "execution_count": 21,
     "metadata": {},
     "output_type": "execute_result"
    }
   ],
   "source": [
    "#Formatting in weekly format\n",
    "\n",
    "# Group the data by week and calculate the sum of the ad metrics\n",
    "df_concat_weekly = df_concat.groupby(pd.Grouper(key='Date', freq='W-SUN')).sum()\n",
    "\n",
    "# Reset the index to get the 'week' column\n",
    "df_concat_weekly = df_concat_weekly.reset_index()\n",
    "\n",
    "# Rename the 'date' column to 'week'\n",
    "df_concat_weekly = df_concat_weekly.rename(columns={'Date': 'week_end'})\n",
    "\n",
    "# Add a 'week_number' column ranging from 1 to 52\n",
    "df_concat_weekly['week_number'] = df_concat_weekly['week_end'].dt.week\n",
    "\n",
    "# Display the transformed weekly dataset\n",
    "df_concat_weekly"
   ]
  },
  {
   "cell_type": "code",
   "execution_count": 22,
   "metadata": {},
   "outputs": [
    {
     "data": {
      "text/html": [
       "<div>\n",
       "<style scoped>\n",
       "    .dataframe tbody tr th:only-of-type {\n",
       "        vertical-align: middle;\n",
       "    }\n",
       "\n",
       "    .dataframe tbody tr th {\n",
       "        vertical-align: top;\n",
       "    }\n",
       "\n",
       "    .dataframe thead th {\n",
       "        text-align: right;\n",
       "    }\n",
       "</style>\n",
       "<table border=\"1\" class=\"dataframe\">\n",
       "  <thead>\n",
       "    <tr style=\"text-align: right;\">\n",
       "      <th></th>\n",
       "      <th>impressions_tiktok</th>\n",
       "      <th>clicks_tiktok</th>\n",
       "      <th>spend_tiktok</th>\n",
       "      <th>week_end</th>\n",
       "      <th>week_number</th>\n",
       "    </tr>\n",
       "  </thead>\n",
       "  <tbody>\n",
       "    <tr>\n",
       "      <th>0</th>\n",
       "      <td>721836</td>\n",
       "      <td>3170</td>\n",
       "      <td>465.61</td>\n",
       "      <td>2020-10-25</td>\n",
       "      <td>43</td>\n",
       "    </tr>\n",
       "    <tr>\n",
       "      <th>1</th>\n",
       "      <td>1582357</td>\n",
       "      <td>8131</td>\n",
       "      <td>1076.82</td>\n",
       "      <td>2020-11-01</td>\n",
       "      <td>44</td>\n",
       "    </tr>\n",
       "    <tr>\n",
       "      <th>2</th>\n",
       "      <td>2024319</td>\n",
       "      <td>11626</td>\n",
       "      <td>1950.44</td>\n",
       "      <td>2020-11-08</td>\n",
       "      <td>45</td>\n",
       "    </tr>\n",
       "    <tr>\n",
       "      <th>3</th>\n",
       "      <td>1566050</td>\n",
       "      <td>13198</td>\n",
       "      <td>950.70</td>\n",
       "      <td>2020-11-15</td>\n",
       "      <td>46</td>\n",
       "    </tr>\n",
       "    <tr>\n",
       "      <th>4</th>\n",
       "      <td>1369027</td>\n",
       "      <td>13453</td>\n",
       "      <td>568.38</td>\n",
       "      <td>2020-11-22</td>\n",
       "      <td>47</td>\n",
       "    </tr>\n",
       "    <tr>\n",
       "      <th>...</th>\n",
       "      <td>...</td>\n",
       "      <td>...</td>\n",
       "      <td>...</td>\n",
       "      <td>...</td>\n",
       "      <td>...</td>\n",
       "    </tr>\n",
       "    <tr>\n",
       "      <th>136</th>\n",
       "      <td>2850159</td>\n",
       "      <td>4937</td>\n",
       "      <td>1446.40</td>\n",
       "      <td>2023-06-04</td>\n",
       "      <td>22</td>\n",
       "    </tr>\n",
       "    <tr>\n",
       "      <th>137</th>\n",
       "      <td>0</td>\n",
       "      <td>0</td>\n",
       "      <td>0.00</td>\n",
       "      <td>2023-06-11</td>\n",
       "      <td>23</td>\n",
       "    </tr>\n",
       "    <tr>\n",
       "      <th>138</th>\n",
       "      <td>0</td>\n",
       "      <td>0</td>\n",
       "      <td>0.00</td>\n",
       "      <td>2023-06-18</td>\n",
       "      <td>24</td>\n",
       "    </tr>\n",
       "    <tr>\n",
       "      <th>139</th>\n",
       "      <td>0</td>\n",
       "      <td>0</td>\n",
       "      <td>0.00</td>\n",
       "      <td>2023-06-25</td>\n",
       "      <td>25</td>\n",
       "    </tr>\n",
       "    <tr>\n",
       "      <th>140</th>\n",
       "      <td>1666778</td>\n",
       "      <td>2583</td>\n",
       "      <td>1104.13</td>\n",
       "      <td>2023-07-02</td>\n",
       "      <td>26</td>\n",
       "    </tr>\n",
       "  </tbody>\n",
       "</table>\n",
       "<p>141 rows × 5 columns</p>\n",
       "</div>"
      ],
      "text/plain": [
       "     impressions_tiktok  clicks_tiktok  spend_tiktok   week_end  week_number\n",
       "0                721836           3170        465.61 2020-10-25           43\n",
       "1               1582357           8131       1076.82 2020-11-01           44\n",
       "2               2024319          11626       1950.44 2020-11-08           45\n",
       "3               1566050          13198        950.70 2020-11-15           46\n",
       "4               1369027          13453        568.38 2020-11-22           47\n",
       "..                  ...            ...           ...        ...          ...\n",
       "136             2850159           4937       1446.40 2023-06-04           22\n",
       "137                   0              0          0.00 2023-06-11           23\n",
       "138                   0              0          0.00 2023-06-18           24\n",
       "139                   0              0          0.00 2023-06-25           25\n",
       "140             1666778           2583       1104.13 2023-07-02           26\n",
       "\n",
       "[141 rows x 5 columns]"
      ]
     },
     "execution_count": 22,
     "metadata": {},
     "output_type": "execute_result"
    }
   ],
   "source": [
    "df_final = df_concat_weekly[['Impression', 'Clicks', 'Cost', 'week_end', 'week_number']]\n",
    "df_final= df_final.rename(columns={'Impression':'impressions_tiktok', 'Cost': 'spend_tiktok', 'Clicks': 'clicks_tiktok'})\n",
    "df_final\n"
   ]
  },
  {
   "cell_type": "code",
   "execution_count": 24,
   "metadata": {},
   "outputs": [],
   "source": [
    "df_final.to_csv('tiktok_final.csv')"
   ]
  },
  {
   "cell_type": "code",
   "execution_count": null,
   "metadata": {},
   "outputs": [],
   "source": [
    "columns=['spend_tiktok', 'clicks_tiktok', 'impressions_tiktok']\n",
    "for c in columns:\n",
    "    sns.relplot(x='week_end', y=c, data=df_final, kind='line')\n",
    "    plt.xticks(rotation=45)"
   ]
  }
 ],
 "metadata": {
  "kernelspec": {
   "display_name": "base",
   "language": "python",
   "name": "python3"
  },
  "language_info": {
   "codemirror_mode": {
    "name": "ipython",
    "version": 3
   },
   "file_extension": ".py",
   "mimetype": "text/x-python",
   "name": "python",
   "nbconvert_exporter": "python",
   "pygments_lexer": "ipython3",
   "version": "3.10.10"
  },
  "orig_nbformat": 4
 },
 "nbformat": 4,
 "nbformat_minor": 2
}
