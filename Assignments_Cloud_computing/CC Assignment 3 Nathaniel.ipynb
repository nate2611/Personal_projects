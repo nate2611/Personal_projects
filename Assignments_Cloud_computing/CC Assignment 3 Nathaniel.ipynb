{
 "cells": [
  {
   "cell_type": "markdown",
   "id": "d97be946",
   "metadata": {},
   "source": [
    "1. Accessing Wallapop page"
   ]
  },
  {
   "cell_type": "code",
   "execution_count": null,
   "id": "5a0ebfa7",
   "metadata": {},
   "outputs": [],
   "source": [
    "import requests\n",
    "import bs4\n",
    "import pandas as pd\n",
    "import bs4\n",
    "from bs4 import BeautifulSoup"
   ]
  },
  {
   "cell_type": "code",
   "execution_count": null,
   "id": "6895883e",
   "metadata": {},
   "outputs": [],
   "source": [
    "\n",
    "import selenium\n",
    "import time\n",
    "from selenium import webdriver\n",
    "from selenium.webdriver.support.wait import WebDriverWait\n",
    "from selenium.webdriver.support import expected_conditions as EC"
   ]
  },
  {
   "cell_type": "code",
   "execution_count": null,
   "id": "52d3d290",
   "metadata": {},
   "outputs": [],
   "source": [
    "PATH=\"/Users/nathanielthomascopeland/Documents/chromedriver\"\n",
    "driver= webdriver.Chrome(PATH)\n",
    "driver.get('https://es.wallapop.com/')\n",
    "soup = bs4.BeautifulSoup(driver.page_source, 'html.parser')\n",
    "from selenium.webdriver.common.by import By"
   ]
  },
  {
   "cell_type": "markdown",
   "id": "128f0561",
   "metadata": {},
   "source": [
    "2. Bicicleta"
   ]
  },
  {
   "cell_type": "markdown",
   "id": "541fb723",
   "metadata": {},
   "source": [
    "Privacy"
   ]
  },
  {
   "cell_type": "code",
   "execution_count": null,
   "id": "3217896c",
   "metadata": {},
   "outputs": [],
   "source": [
    "try:\n",
    "    privacy= WebDriverWait(driver, 10).until(EC.element_to_be_clickable((By.XPATH, \"/html/body/div[9]/div[2]/div/div/div[2]/div/div/button\")))\n",
    "    privacy.click()\n",
    "    time.sleep(1)\n",
    "except: \n",
    "    privacy= WebDriverWait(driver, 10).until(EC.element_to_be_clickable((By.XPATH, \"/html/body/div[10]/div[2]/div/div/div[2]/div/div\")))\n",
    "    privacy.click()\n",
    "    time.sleep(1)\n"
   ]
  },
  {
   "cell_type": "code",
   "execution_count": null,
   "id": "d623bd2a",
   "metadata": {},
   "outputs": [],
   "source": [
    "search= WebDriverWait(driver, 10).until(EC.element_to_be_clickable((By.XPATH,\"//input[@class = 'Search__input']\")))\n",
    "search.send_keys('bicicleta' + \"\\n\")\n",
    "\n"
   ]
  },
  {
   "cell_type": "markdown",
   "id": "11096b6c",
   "metadata": {},
   "source": [
    "3.Bicicletas category"
   ]
  },
  {
   "cell_type": "code",
   "execution_count": null,
   "id": "4e7459ed",
   "metadata": {},
   "outputs": [],
   "source": [
    "category= WebDriverWait(driver, 5).until(EC.element_to_be_clickable((By.XPATH, '/html/body/tsl-root/tsl-public/div/div/tsl-search/div/div/tsl-filters-wrapper/div/div/tsl-filter-group/div/div[1]/tsl-filter-host/div/tsl-categories-filter/tsl-filter-template/div/tsl-bubble/div/div')))\n",
    "category.click()\n",
    "category_bicicleta= driver.find_element(By.XPATH, '/html/body/tsl-root/tsl-public/div/div/tsl-search/div/div/tsl-filters-wrapper/div/div[2]/tsl-filter-group/div/div[1]/tsl-filter-host/div/tsl-categories-filter/tsl-filter-template/div/div/div[2]/div/form/tsl-grid-select-form/div/div/div[11]/tsl-grid-select-option/div')\n",
    "category_bicicleta.click()"
   ]
  },
  {
   "cell_type": "markdown",
   "id": "8ac5852f",
   "metadata": {},
   "source": [
    "4. Search filters"
   ]
  },
  {
   "cell_type": "markdown",
   "id": "cb56dada",
   "metadata": {},
   "source": [
    "Location"
   ]
  },
  {
   "cell_type": "code",
   "execution_count": null,
   "id": "d79d1e69",
   "metadata": {},
   "outputs": [],
   "source": [
    "location= WebDriverWait(driver, 10).until(EC.element_to_be_clickable((By.XPATH, \"/html/body/tsl-root/tsl-public/div/div/tsl-search/div/div/tsl-filters-wrapper/div/div/tsl-filter-group/div/div[2]/tsl-filter-host/div/tsl-location-filter/tsl-filter-template/div/tsl-bubble/div/div/div\")))\n",
    "location.click()\n",
    "location_info= WebDriverWait(driver, 10).until(EC.element_to_be_clickable((By.XPATH, '/html/body/tsl-root/tsl-public/div/div/tsl-search/div/div/tsl-filters-wrapper/div/div[2]/tsl-filter-group/div/div[2]/tsl-filter-host/div/tsl-location-filter/tsl-filter-template/div/div/div[2]/div/tsl-drawer-placeholder-template/div/div/div[1]/input')))\n",
    "location_info.clear()\n",
    "location_info.send_keys('Barcelona')\n",
    "location_search=WebDriverWait(driver, 10).until(EC.element_to_be_clickable((By.XPATH, \"/html/body/tsl-root/tsl-public/div/div/tsl-search/div/div/tsl-filters-wrapper/div/div[2]/tsl-filter-group/div/div[2]/tsl-filter-host/div/tsl-location-filter/tsl-filter-template/div/div/div[2]/div/tsl-drawer-placeholder-template/div/div/div[1]/ngb-typeahead-window/button[1]/div\")))\n",
    "location_search.click()\n",
    "time.sleep(1)\n",
    "location_applicar=driver.find_element(By.XPATH, '/html/body/tsl-root/tsl-public/div/div/tsl-search/div/div/tsl-filters-wrapper/div/div[2]/tsl-filter-group/div/div[2]/tsl-filter-host/div/tsl-location-filter/tsl-filter-template/div/div/div[3]/tsl-button[2]/button')\n",
    "location_applicar.click()"
   ]
  },
  {
   "cell_type": "markdown",
   "id": "184668d8",
   "metadata": {},
   "source": [
    "Price"
   ]
  },
  {
   "cell_type": "code",
   "execution_count": null,
   "id": "d7d00084",
   "metadata": {},
   "outputs": [],
   "source": [
    "price= driver.find_element(By.XPATH, '/html/body/tsl-root/tsl-public/div/div/tsl-search/div/div/tsl-filters-wrapper/div/div/tsl-filter-group/div/div[3]/tsl-filter-host/div/tsl-range-filter/tsl-filter-template/div/tsl-bubble/div')\n",
    "time.sleep(1)\n",
    "price.click()\n",
    "price_limit=WebDriverWait(driver, 10).until(EC.element_to_be_clickable((By.XPATH, '/html/body/tsl-root/tsl-public/div/div/tsl-search/div/div/tsl-filters-wrapper/div/div[2]/tsl-filter-group/div/div[3]/tsl-filter-host/div/tsl-range-filter/tsl-filter-template/div/div/div[2]/div/form/div/div[2]/input')))\n",
    "price_limit.send_keys('800')\n",
    "time.sleep(1)\n",
    "price_applicar= driver.find_element(By.XPATH, '/html/body/tsl-root/tsl-public/div/div/tsl-search/div/div/tsl-filters-wrapper/div/div[2]/tsl-filter-group/div/div[3]/tsl-filter-host/div/tsl-range-filter/tsl-filter-template/div/div/div[3]/tsl-button[2]')\n",
    "price_applicar.click()\n"
   ]
  },
  {
   "cell_type": "markdown",
   "id": "4fcd9c4c",
   "metadata": {},
   "source": [
    "Subcategory"
   ]
  },
  {
   "cell_type": "code",
   "execution_count": null,
   "id": "cc07bc95",
   "metadata": {},
   "outputs": [],
   "source": [
    "subfield = WebDriverWait(driver, 15).until(EC.element_to_be_clickable((By.XPATH, \"//div[contains(text(), 'Subcategoría')]\")))\n",
    "subfield.click()"
   ]
  },
  {
   "cell_type": "code",
   "execution_count": null,
   "id": "c7d9bf8d",
   "metadata": {},
   "outputs": [],
   "source": [
    "subfield_specific = WebDriverWait(driver, 15).until(EC.element_to_be_clickable((By.XPATH, \"//p[contains(text(), 'Bicicletas y triciclos')]\")))\n",
    "subfield_specific.click()\n",
    "\n",
    "time.sleep(1.5)"
   ]
  },
  {
   "cell_type": "code",
   "execution_count": null,
   "id": "f5b4b561",
   "metadata": {},
   "outputs": [],
   "source": [
    "select_bike_labels = driver.find_elements(By.XPATH, \"//*[@class = 'w-100 ng-star-inserted']\")\n",
    "\n",
    "for bike in select_bike_labels:\n",
    "    \n",
    "    bike_label = bike.text.strip()\n",
    "    \n",
    "    if bike_label == \"Bicicletas de carretera\":\n",
    "        bike.find_element(By.XPATH, \".//tsl-checkbox-form\").click()\n",
    "        time.sleep(0.5)\n",
    "        \n",
    "    elif bike_label == \"Bicicletas plegables\":\n",
    "        bike.find_element(By.XPATH, \".//tsl-checkbox-form\").click()\n",
    "        time.sleep(0.5)\n",
    "        \n",
    "    elif bike_label == \"MTB\":\n",
    "        bike.find_element(By.XPATH, \".//tsl-checkbox-form\").click()\n",
    "        time.sleep(0.5)\n",
    "\n",
    "accept_subfield = driver.find_element(By.XPATH, '/html/body/tsl-root/tsl-public/div/div/tsl-search/div/div/tsl-filters-wrapper/div/div[2]/tsl-filter-group/div/div[4]/tsl-filter-host/div/tsl-multi-select-filter/div/tsl-filter-template/div/div/div[3]/tsl-button[2]/button')\n",
    "accept_subfield.click()\n",
    "\n",
    "time.sleep(1.5)"
   ]
  },
  {
   "cell_type": "markdown",
   "id": "caaf3c94",
   "metadata": {},
   "source": [
    "Filter"
   ]
  },
  {
   "cell_type": "code",
   "execution_count": null,
   "id": "989bc040",
   "metadata": {},
   "outputs": [],
   "source": [
    "filter=WebDriverWait(driver, 10).until(EC.element_to_be_clickable((By.XPATH, '/html/body/tsl-root/tsl-public/div/div/tsl-search/div/div/tsl-filters-wrapper/div/div/tsl-bubble/div')))\n",
    "filter.click()\n",
    "time.sleep(1)\n",
    "filters=driver.find_elements(By.CSS_SELECTOR, '.FilterGroup__filter.m-1.ng-star-inserted')\n",
    "for filter in filters: \n",
    "    driver.execute_script(\"arguments[0].scrollIntoView();\", filter)\n",
    "    time.sleep(0.3)\n",
    "product_state=driver.find_element(By.XPATH, '/html/body/tsl-root/tsl-public/div/div/tsl-search/div/div/tsl-filters-wrapper/tsl-drawer/div[1]/div[1]/tsl-filter-group/div/div[4]/tsl-filter-host/div/tsl-multi-select-filter/div/tsl-filter-template/div/tsl-drawer-placeholder-template/tsl-select-parent-option/div/tsl-select-option/div/div/span')\n",
    "product_state.click()\n",
    "time.sleep(0.5)\n",
    "new=driver.find_element(By.XPATH,'/html/body/tsl-root/tsl-public/div/div/tsl-search/div/div/tsl-filters-wrapper/tsl-drawer/div[1]/div[1]/tsl-filter-group/div/div[4]/tsl-filter-host/div/tsl-multi-select-filter/div/tsl-filter-template/div/tsl-drawer-placeholder-template/div/div[2]/div/form/tsl-multi-select-form/div[1]/tsl-multi-select-option/div/tsl-checkbox-form/label')\n",
    "new.click()\n",
    "time.sleep(0.5)\n",
    "like_new=driver.find_element(By.XPATH,'/html/body/tsl-root/tsl-public/div/div/tsl-search/div/div/tsl-filters-wrapper/tsl-drawer/div[1]/div[1]/tsl-filter-group/div/div[4]/tsl-filter-host/div/tsl-multi-select-filter/div/tsl-filter-template/div/tsl-drawer-placeholder-template/div/div[2]/div/form/tsl-multi-select-form/div[2]/tsl-multi-select-option/div/tsl-checkbox-form/label')\n",
    "like_new.click()\n",
    "time.sleep(0.5)\n",
    "in_good_state=driver.find_element(By.XPATH, '/html/body/tsl-root/tsl-public/div/div/tsl-search/div/div/tsl-filters-wrapper/tsl-drawer/div[1]/div[1]/tsl-filter-group/div/div[4]/tsl-filter-host/div/tsl-multi-select-filter/div/tsl-filter-template/div/tsl-drawer-placeholder-template/div/div[2]/div/form/tsl-multi-select-form/div[3]/tsl-multi-select-option/div/tsl-checkbox-form/label')\n",
    "in_good_state.click()\n",
    "time.sleep(0.5)\n",
    "back=driver.find_element(By.XPATH, '/html/body/tsl-root/tsl-public/div/div/tsl-search/div/div/tsl-filters-wrapper/tsl-drawer/div[1]/div[1]/tsl-filter-group/div/div[4]/tsl-filter-host/div/tsl-multi-select-filter/div/tsl-filter-template/div/tsl-drawer-placeholder-template/div/div[1]/tsl-svg-icon')\n",
    "back.click()\n",
    "time.sleep(0.5)\n",
    "filter_confirm=driver.find_element(By.XPATH, '/html/body/tsl-root/tsl-public/div/div/tsl-search/div/div/tsl-filters-wrapper/tsl-drawer/div[1]/div[2]/tsl-button[2]/button')\n",
    "filter_confirm.click()"
   ]
  },
  {
   "cell_type": "markdown",
   "id": "8247b1ae",
   "metadata": {},
   "source": [
    "5. info retrieval"
   ]
  },
  {
   "cell_type": "markdown",
   "id": "6b8e6aa3",
   "metadata": {},
   "source": [
    "Part 1"
   ]
  },
  {
   "cell_type": "code",
   "execution_count": null,
   "id": "8db34d49",
   "metadata": {},
   "outputs": [],
   "source": [
    "nolimit=driver.find_elements(By.CSS_SELECTOR,'.ItemCardList__item.ng-star-inserted')\n",
    "\n",
    "for limit in nolimit:\n",
    "    driver.execute_script(\"arguments[0].scrollIntoView();\", limit)\n",
    "driver.find_element(By.XPATH, '/html/body/tsl-root/tsl-public/div/div/tsl-search/div/tsl-search-layout/div/div[2]/div/div[2]/tsl-button/button').click()\n",
    "time.sleep(1)\n",
    "\n",
    "\n",
    "\n"
   ]
  },
  {
   "cell_type": "code",
   "execution_count": null,
   "id": "38b5d127",
   "metadata": {},
   "outputs": [],
   "source": [
    "driver.execute_script(\"window.scrollTo(0, 0);\")\n",
    "screen_height = driver.execute_script(\"return window.screen.height;\")   # get the screen height of the web\n",
    "i = 1\n",
    "\n",
    "while True:\n",
    "    # scroll one screen height each time\n",
    "    driver.execute_script(\"window.scrollTo(0, {screen_height}*{i});\".format(screen_height=screen_height, i=i))  \n",
    "    i += 1\n",
    "    time.sleep(1)\n",
    "    # update scroll height each time after scrolled, as the scroll height can change after we scrolled the page\n",
    "    scroll_height = driver.execute_script(\"return document.body.scrollHeight;\")  \n",
    "    # Break the loop when the height we need to scroll to is larger than the total scroll height\n",
    "    posts=driver.find_elements(By.CSS_SELECTOR,'.ItemCardList__item.ng-star-inserted')\n",
    "    if (len(posts)>=250):\n",
    "        break"
   ]
  },
  {
   "cell_type": "code",
   "execution_count": null,
   "id": "7ecfaecc",
   "metadata": {},
   "outputs": [],
   "source": [
    "len(posts)"
   ]
  },
  {
   "cell_type": "code",
   "execution_count": null,
   "id": "41d8cb39",
   "metadata": {},
   "outputs": [],
   "source": [
    "\n",
    "from tqdm import tqdm"
   ]
  },
  {
   "cell_type": "code",
   "execution_count": null,
   "id": "719a0291",
   "metadata": {},
   "outputs": [],
   "source": [
    "\n",
    "image_url=[]\n",
    "price=[]\n",
    "description=[]\n",
    "title=[]\n",
    "post_url=[]\n",
    "driver.execute_script(\"window.scrollTo(0, 0);\")\n",
    "for post in tqdm(posts[:250]):\n",
    "    driver.execute_script(\"arguments[0].scrollIntoView();\", post)\n",
    "    try:\n",
    "        image=post.find_element(By.TAG_NAME,'img')\n",
    "    except:\n",
    "        image=None\n",
    "    try:   \n",
    "        price.append(float(post.text.split('\\n')[0].strip('€').replace(\",\", \".\")))\n",
    "    except:\n",
    "        price.append(None)\n",
    "    try:\n",
    "        title.append(post.text.split('\\n')[1])\n",
    "    except:\n",
    "        title.append(None)\n",
    "    try:\n",
    "        image_url.append(image.get_attribute('src'))\n",
    "    except:\n",
    "        image_url.append(None)\n",
    "    time.sleep(1)\n",
    " \n",
    "    \n"
   ]
  },
  {
   "cell_type": "code",
   "execution_count": null,
   "id": "a411212c",
   "metadata": {},
   "outputs": [],
   "source": [
    "driver.execute_script(\"window.scrollTo(0, 0);\")\n",
    "scroll_pause_time = 1 # You can set your own pause time. My laptop is a bit slow so I use 1 sec\n",
    "screen_height = driver.execute_script(\"return window.screen.height;\")   # get the screen height of the web\n",
    "i = 1\n",
    "\n",
    "while True:\n",
    "    # scroll one screen height each time\n",
    "    driver.execute_script(\"window.scrollTo(0, {screen_height}*{i});\".format(screen_height=screen_height, i=i))  \n",
    "    i += 1\n",
    "    time.sleep(scroll_pause_time)\n",
    "    # update scroll height each time after scrolled, as the scroll height can change after we scrolled the page\n",
    "    scroll_height = driver.execute_script(\"return document.body.scrollHeight;\")  \n",
    "    # Break the loop when the height we need to scroll to is larger than the total scroll height\n",
    "    trippies= driver.find_elements(By.XPATH, \"//div[contains(@class, 'ItemCard__image')]\" )\n",
    "    if (screen_height) * i > scroll_height and (len(trippies)>=250):\n",
    "        break"
   ]
  },
  {
   "cell_type": "code",
   "execution_count": null,
   "id": "010060d4",
   "metadata": {},
   "outputs": [],
   "source": [
    "len(trippies)"
   ]
  },
  {
   "cell_type": "code",
   "execution_count": null,
   "id": "5b6dba17",
   "metadata": {},
   "outputs": [],
   "source": [
    "driver.execute_script(\"window.scrollTo(0, 0);\")\n",
    "post_url=[]\n",
    "description=[]\n",
    "trippies= driver.find_elements(By.XPATH, \"//div[contains(@class, 'ItemCard__image')]\" )\n",
    "for trippy in tqdm(trippies[:250]):\n",
    "    driver.execute_script(\"arguments[0].scrollIntoView();\", trippy)\n",
    "    driver.execute_script(\"arguments[0].click();\", trippy)\n",
    "    time.sleep(2)\n",
    "    parent = driver.window_handles[0]\n",
    "    chld = driver.window_handles[1]\n",
    "    driver.switch_to.window(chld)\n",
    "    post_url.append(str(driver.current_url))\n",
    "    try:\n",
    "        descr=driver.find_element(By.XPATH, \"//p[contains(@class, 'js__card-product-detail--description')]\" )\n",
    "        driver.execute_script(\"arguments[0].scrollIntoView();\", descr)\n",
    "        description.append(descr.text)\n",
    "    except:\n",
    "        description.append(None)\n",
    "    time.sleep(2)\n",
    "    driver.close()\n",
    "    driver.switch_to.window(parent)\n",
    "    time.sleep(1)"
   ]
  },
  {
   "cell_type": "code",
   "execution_count": null,
   "id": "824438f6",
   "metadata": {},
   "outputs": [],
   "source": [
    "df1={\"Link\": post_url, 'Title':title, \"Description\": description, \"Price\": price, \"Image\": image_url}\n",
    "\n",
    "df1 = pd.DataFrame(df1)\n"
   ]
  },
  {
   "cell_type": "code",
   "execution_count": null,
   "id": "b6161da8",
   "metadata": {},
   "outputs": [],
   "source": [
    "df1.to_csv('CCDF1.csv')"
   ]
  },
  {
   "cell_type": "markdown",
   "id": "ee6dadad",
   "metadata": {},
   "source": [
    "Part 2"
   ]
  },
  {
   "cell_type": "code",
   "execution_count": null,
   "id": "b7b354ae",
   "metadata": {},
   "outputs": [],
   "source": [
    "\n",
    "driver.execute_script(\"window.scrollTo(0, 0);\")"
   ]
  },
  {
   "cell_type": "code",
   "execution_count": null,
   "id": "5431deef",
   "metadata": {},
   "outputs": [],
   "source": [
    "bikeurl=[]\n",
    "bikesize=[]\n",
    "bikesizeletter=[]\n",
    "bikekids=[]\n",
    "biketype=[]\n",
    "bikestate=[]\n",
    "driver.execute_script(\"window.scrollTo(0, 0);\")\n",
    "for trippy in tqdm(trippies[:250]):\n",
    "    driver.execute_script(\"arguments[0].scrollIntoView();\", trippy)\n",
    "    driver.execute_script(\"arguments[0].click();\", trippy)\n",
    "    time.sleep(2)\n",
    "    parent = driver.window_handles[0]\n",
    "    chld = driver.window_handles[1]\n",
    "    driver.switch_to.window(chld)\n",
    "    bikeurl.append(str(driver.current_url))\n",
    "    driver.execute_script(\"window.scrollTo(0, document.body.scrollHeight);\")\n",
    "    try:\n",
    "        detail_elements=driver.find_element(By.XPATH, \"//div[contains(@class, 'card-product-detail')]\" ).text.split('\\n')\n",
    "\n",
    "        if any('MTB' in d for d in detail_elements):\n",
    "            biketype.append('MTB')\n",
    "        elif any('Bicicletas plegables' in d for d in detail_elements):\n",
    "            biketype.append('Bicicletas plegables')\n",
    "        elif any('Bicicletas de carretera' in d for d in detail_elements):\n",
    "            biketype.append('Bicicletas de carretera')\n",
    "        else:\n",
    "            biketype.append(None)\n",
    "\n",
    "        if any('Bueno' in d for d in detail_elements):\n",
    "            bikestate.append('Bueno')\n",
    "        elif any('Nuevo' in d for d in detail_elements):\n",
    "            bikestate.append('Nuevo')       \n",
    "        elif any('Como nuevo' in d for d in detail_elements):\n",
    "            bikestate.append('Como Nuevo')\n",
    "        else:\n",
    "            bikestate.append(None)\n",
    "\n",
    "        if any('talla 50' in d.lower() for d in detail_elements):\n",
    "            bikesize.append(50)\n",
    "        elif any('talla 51' in d.lower() for d in detail_elements):\n",
    "            bikesize.append(51)\n",
    "        elif any('talla 52' in d.lower() for d in detail_elements):\n",
    "            bikesize.append(52)\n",
    "        elif any('talla 53' in d.lower() for d in detail_elements):\n",
    "            bikesize.append(53)\n",
    "        elif any('talla 54' in d.lower() for d in detail_elements):\n",
    "            bikesize.append(54)\n",
    "        elif any('talla50' in d.lower() for d in detail_elements):\n",
    "            bikesize.append(50)\n",
    "        elif any('talla51' in d.lower() for d in detail_elements):\n",
    "            bikesize.append(51)\n",
    "        elif any('talla52' in d.lower() for d in detail_elements):\n",
    "            bikesize.append(52)\n",
    "        elif any('talla53' in d.lower() for d in detail_elements):\n",
    "            bikesize.append(53)\n",
    "        elif any('talla54' in d.lower() for d in detail_elements):\n",
    "            bikesize.append(54)\n",
    "        else:\n",
    "            bikesize.append(None)\n",
    "            \n",
    "        if any('tallam' in d.lower() for d in detail_elements):\n",
    "            bikesizeletter.append('M')\n",
    "        elif any('tallas' in d.lower() for d in detail_elements):\n",
    "            bikesizeletter.append('S')\n",
    "        elif any('tallal' in d.lower() for d in detail_elements):\n",
    "            bikesizeletter.append('L')\n",
    "        elif any('talla m' in d.lower() for d in detail_elements):\n",
    "            bikesizeletter.append('M')\n",
    "        elif any('talla s' in d.lower() for d in detail_elements):\n",
    "            bikesizeletter.append('S')\n",
    "        elif any('talla l' in d.lower() for d in detail_elements):\n",
    "            bikesizeletter.append('L')    \n",
    "        else: \n",
    "            bikesizeletter.append(None)\n",
    "            \n",
    "        if any('infantil' in d.lower() for d in detail_elements):\n",
    "            bikekids.append(True)\n",
    "        elif any('niño/a' in d.lower() for d in detail_elements):\n",
    "            bikekids.append(True)\n",
    "        elif any('niño' in d.lower() for d in detail_elements):\n",
    "            bikekids.append(True)\n",
    "        elif any('niña' in d.lower() for d in detail_elements):\n",
    "            bikekids.append(True)\n",
    "        elif any('nino' in d.lower() for d in detail_elements):\n",
    "            bikekids.append(True)\n",
    "        elif any('nina' in d.lower() for d in detail_elements):\n",
    "            bikekids.append(True)\n",
    "        elif any('ninos' in d.lower() for d in detail_elements):\n",
    "            bikekids.append(True)\n",
    "        elif any('ninas' in d.lower() for d in detail_elements):\n",
    "            bikekids.append(True)\n",
    "        elif any('niños' in d.lower() for d in detail_elements):\n",
    "            bikekids.append(True)\n",
    "        elif any('niñas' in d.lower() for d in detail_elements):\n",
    "            bikekids.append(True)\n",
    "        elif any('niños/as' in d.lower() for d in detail_elements):\n",
    "            bikekids.append(True)\n",
    "        else:\n",
    "            bikekids.append(False)\n",
    "\n",
    "        time.sleep(2)\n",
    "        driver.close()\n",
    "        driver.switch_to.window(parent)\n",
    "        time.sleep(1)\n",
    "    except: \n",
    "        bikeurl.append(None)\n",
    "        bikesize.append(None)\n",
    "        bikesizeletter.append(None)\n",
    "        bikekids.append(None)\n",
    "        biketype.append(None)\n",
    "        bikestate.append(None)\n",
    "    "
   ]
  },
  {
   "cell_type": "markdown",
   "id": "c8f89ef2",
   "metadata": {},
   "source": [
    "Create the final DataFrame"
   ]
  },
  {
   "cell_type": "code",
   "execution_count": null,
   "id": "19c5abed",
   "metadata": {},
   "outputs": [],
   "source": [
    "df2={\"Link\": bikeurl, 'Size':bikesize, \"Size (letter)\": bikesizeletter, \"Children\": bikekids, \"Type\": biketype, \"State\":bikestate}\n",
    "\n",
    "df2 = pd.DataFrame(df2)\n"
   ]
  },
  {
   "cell_type": "code",
   "execution_count": null,
   "id": "0aadfa6e",
   "metadata": {},
   "outputs": [],
   "source": [
    "df3= pd.merge(df1, df2) "
   ]
  },
  {
   "cell_type": "code",
   "execution_count": null,
   "id": "c25ce7d2",
   "metadata": {},
   "outputs": [],
   "source": [
    "df3.to_csv('CCDFfinal.csv')"
   ]
  },
  {
   "cell_type": "markdown",
   "id": "505d365c",
   "metadata": {},
   "source": [
    "Agg DataFrame"
   ]
  },
  {
   "cell_type": "code",
   "execution_count": null,
   "id": "54e7e8fa",
   "metadata": {},
   "outputs": [],
   "source": [
    "agg = df3.groupby(['Type', 'State']).agg({'Price': ['mean', 'min', 'max']})\n",
    "agg.columns = ['Price_mean', 'Price_min', 'Price_max']\n",
    "agg = agg.reset_index()\n",
    "print(agg)\n",
    "agg.to_csv('Agg.csv')"
   ]
  },
  {
   "cell_type": "code",
   "execution_count": null,
   "id": "29492e31",
   "metadata": {},
   "outputs": [],
   "source": []
  }
 ],
 "metadata": {
  "kernelspec": {
   "display_name": "Python 3 (ipykernel)",
   "language": "python",
   "name": "python3"
  },
  "language_info": {
   "codemirror_mode": {
    "name": "ipython",
    "version": 3
   },
   "file_extension": ".py",
   "mimetype": "text/x-python",
   "name": "python",
   "nbconvert_exporter": "python",
   "pygments_lexer": "ipython3",
   "version": "3.9.12"
  }
 },
 "nbformat": 4,
 "nbformat_minor": 5
}
