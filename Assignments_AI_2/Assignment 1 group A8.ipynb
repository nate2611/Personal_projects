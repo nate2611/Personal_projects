{
 "cells": [
  {
   "cell_type": "markdown",
   "metadata": {
    "deletable": false,
    "editable": false,
    "id": "1_t4V9bnt-hB",
    "nbgrader": {
     "cell_type": "markdown",
     "checksum": "50fbc8263e8f31674a9919dc666a7a1b",
     "grade": false,
     "grade_id": "cell-e911fa75d4ae6ea9",
     "locked": true,
     "schema_version": 3,
     "solution": false,
     "task": false
    }
   },
   "source": [
    "\n",
    "# Assignment 1: Predicting overall The Human Freedom Index\n",
    "\n",
    "This notebook contains a set of exercises that will guide you through the different steps of this assignment. Solutions need to be code-based, _i.e._ hard-coded or manually computed results will not be accepted. Remember to write your solutions to each exercise in the dedicated cells and to not modify the test cells. When you are done completing all the exercises submit this same notebook back to moodle in **.ipynb** format.\n",
    "\n",
    "<div class=\"alert alert-success\">\n",
    "\n",
    "The <a href=\"https://www.cato.org/human-freedom-index/2021 \">Human Freedom Index</a> measures economic freedoms such as the freedom to trade or to use sound money, and it captures the degree to which people are free to enjoy the major freedoms often referred to as civil liberties—freedom of speech, religion, association, and assembly— in the countries in the survey. In addition, it includes indicators on rule of law, crime and violence, freedom of movement, and legal discrimination against same-sex relationships. We also include nine variables pertaining to women-specific freedoms that are found in various categories of the index.\n",
    "\n",
    "<u>Citation</u>\n",
    "\n",
    "Ian Vásquez, Fred McMahon, Ryan Murphy, and Guillermina Sutter Schneider, The Human Freedom Index 2021: A Global Measurement of Personal, Civil, and Economic Freedom (Washington: Cato Institute and the Fraser Institute, 2021).\n",
    "    \n",
    "</div>\n",
    "\n",
    "<div class=\"alert alert-danger\"><b>Submission deadline:</b> Sunday, January 29th, 23:55</div>\n"
   ]
  },
  {
   "cell_type": "code",
   "execution_count": 38,
   "metadata": {
    "deletable": false,
    "editable": false,
    "id": "1gbj1gyT16vl",
    "nbgrader": {
     "cell_type": "code",
     "checksum": "73165086c3e0ea8e4c4050187971bd5e",
     "grade": false,
     "grade_id": "cell-0fcbc57512e78927",
     "locked": true,
     "schema_version": 3,
     "solution": false,
     "task": false
    }
   },
   "outputs": [],
   "source": [
    "import pandas as pd\n",
    "import numpy as np\n",
    "import matplotlib \n",
    "import matplotlib.pyplot as plt"
   ]
  },
  {
   "cell_type": "code",
   "execution_count": 39,
   "metadata": {},
   "outputs": [
    {
     "name": "stdout",
     "output_type": "stream",
     "text": [
      "Requirement already satisfied: matplotlib in /Library/Frameworks/Python.framework/Versions/3.10/lib/python3.10/site-packages (3.6.3)\n",
      "Requirement already satisfied: kiwisolver>=1.0.1 in /Library/Frameworks/Python.framework/Versions/3.10/lib/python3.10/site-packages (from matplotlib) (1.4.4)\n",
      "Requirement already satisfied: cycler>=0.10 in /Library/Frameworks/Python.framework/Versions/3.10/lib/python3.10/site-packages (from matplotlib) (0.11.0)\n",
      "Requirement already satisfied: pyparsing>=2.2.1 in /Library/Frameworks/Python.framework/Versions/3.10/lib/python3.10/site-packages (from matplotlib) (3.0.9)\n",
      "Requirement already satisfied: pillow>=6.2.0 in /Library/Frameworks/Python.framework/Versions/3.10/lib/python3.10/site-packages (from matplotlib) (9.4.0)\n",
      "Requirement already satisfied: packaging>=20.0 in /Users/nathanielthomascopeland/Library/Python/3.10/lib/python/site-packages (from matplotlib) (23.0)\n",
      "Requirement already satisfied: numpy>=1.19 in /Library/Frameworks/Python.framework/Versions/3.10/lib/python3.10/site-packages (from matplotlib) (1.24.1)\n",
      "Requirement already satisfied: fonttools>=4.22.0 in /Library/Frameworks/Python.framework/Versions/3.10/lib/python3.10/site-packages (from matplotlib) (4.38.0)\n",
      "Requirement already satisfied: python-dateutil>=2.7 in /Users/nathanielthomascopeland/Library/Python/3.10/lib/python/site-packages (from matplotlib) (2.8.2)\n",
      "Requirement already satisfied: contourpy>=1.0.1 in /Library/Frameworks/Python.framework/Versions/3.10/lib/python3.10/site-packages (from matplotlib) (1.0.7)\n",
      "Requirement already satisfied: six>=1.5 in /Users/nathanielthomascopeland/Library/Python/3.10/lib/python/site-packages (from python-dateutil>=2.7->matplotlib) (1.16.0)\r\n",
      "--- Logging error ---\r\n",
      "Traceback (most recent call last):\r\n",
      "  File \"/Library/Frameworks/Python.framework/Versions/3.10/lib/python3.10/site-packages/pip/_internal/utils/logging.py\", line 177, in emit\r\n",
      "    self.console.print(renderable, overflow=\"ignore\", crop=False, style=style)\r\n",
      "  File \"/Library/Frameworks/Python.framework/Versions/3.10/lib/python3.10/site-packages/pip/_vendor/rich/console.py\", line 1673, in print\r\n",
      "    extend(render(renderable, render_options))\r\n",
      "  File \"/Library/Frameworks/Python.framework/Versions/3.10/lib/python3.10/site-packages/pip/_vendor/rich/console.py\", line 1305, in render\r\n",
      "    for render_output in iter_render:\r\n",
      "  File \"/Library/Frameworks/Python.framework/Versions/3.10/lib/python3.10/site-packages/pip/_internal/utils/logging.py\", line 134, in __rich_console__\r\n",
      "    for line in lines:\r\n",
      "  File \"/Library/Frameworks/Python.framework/Versions/3.10/lib/python3.10/site-packages/pip/_vendor/rich/segment.py\", line 249, in split_lines\r\n",
      "    for segment in segments:\r\n",
      "  File \"/Library/Frameworks/Python.framework/Versions/3.10/lib/python3.10/site-packages/pip/_vendor/rich/console.py\", line 1283, in render\r\n",
      "    renderable = rich_cast(renderable)\r\n",
      "  File \"/Library/Frameworks/Python.framework/Versions/3.10/lib/python3.10/site-packages/pip/_vendor/rich/protocol.py\", line 36, in rich_cast\r\n",
      "    renderable = cast_method()\r\n",
      "  File \"/Library/Frameworks/Python.framework/Versions/3.10/lib/python3.10/site-packages/pip/_internal/self_outdated_check.py\", line 130, in __rich__\r\n",
      "    pip_cmd = get_best_invocation_for_this_pip()\r\n",
      "  File \"/Library/Frameworks/Python.framework/Versions/3.10/lib/python3.10/site-packages/pip/_internal/utils/entrypoints.py\", line 58, in get_best_invocation_for_this_pip\r\n",
      "    if found_executable and os.path.samefile(\r\n",
      "  File \"/Library/Frameworks/Python.framework/Versions/3.10/lib/python3.10/genericpath.py\", line 101, in samefile\r\n",
      "    s2 = os.stat(f2)\r\n",
      "FileNotFoundError: [Errno 2] No such file or directory: '/Library/Frameworks/Python.framework/Versions/3.10/bin/pip'\r\n",
      "Call stack:\r\n",
      "  File \"/Library/Frameworks/Python.framework/Versions/3.10/lib/python3.10/runpy.py\", line 196, in _run_module_as_main\r\n",
      "    return _run_code(code, main_globals, None,\r\n",
      "  File \"/Library/Frameworks/Python.framework/Versions/3.10/lib/python3.10/runpy.py\", line 86, in _run_code\r\n",
      "    exec(code, run_globals)\r\n",
      "  File \"/Library/Frameworks/Python.framework/Versions/3.10/lib/python3.10/site-packages/pip/__main__.py\", line 31, in <module>\r\n",
      "    sys.exit(_main())\r\n",
      "  File \"/Library/Frameworks/Python.framework/Versions/3.10/lib/python3.10/site-packages/pip/_internal/cli/main.py\", line 70, in main\r\n",
      "    return command.main(cmd_args)\r\n",
      "  File \"/Library/Frameworks/Python.framework/Versions/3.10/lib/python3.10/site-packages/pip/_internal/cli/base_command.py\", line 101, in main\r\n",
      "    return self._main(args)\r\n",
      "  File \"/Library/Frameworks/Python.framework/Versions/3.10/lib/python3.10/site-packages/pip/_internal/cli/base_command.py\", line 223, in _main\r\n",
      "    self.handle_pip_version_check(options)\r\n",
      "  File \"/Library/Frameworks/Python.framework/Versions/3.10/lib/python3.10/site-packages/pip/_internal/cli/req_command.py\", line 190, in handle_pip_version_check\r\n",
      "    pip_self_version_check(session, options)\r\n",
      "  File \"/Library/Frameworks/Python.framework/Versions/3.10/lib/python3.10/site-packages/pip/_internal/self_outdated_check.py\", line 236, in pip_self_version_check\r\n",
      "    logger.warning(\"[present-rich] %s\", upgrade_prompt)\r\n",
      "  File \"/Library/Frameworks/Python.framework/Versions/3.10/lib/python3.10/logging/__init__.py\", line 1489, in warning\r\n",
      "    self._log(WARNING, msg, args, **kwargs)\r\n",
      "  File \"/Library/Frameworks/Python.framework/Versions/3.10/lib/python3.10/logging/__init__.py\", line 1624, in _log\r\n",
      "    self.handle(record)\r\n",
      "  File \"/Library/Frameworks/Python.framework/Versions/3.10/lib/python3.10/logging/__init__.py\", line 1634, in handle\r\n",
      "    self.callHandlers(record)\r\n",
      "  File \"/Library/Frameworks/Python.framework/Versions/3.10/lib/python3.10/logging/__init__.py\", line 1696, in callHandlers\r\n",
      "    hdlr.handle(record)\r\n",
      "  File \"/Library/Frameworks/Python.framework/Versions/3.10/lib/python3.10/logging/__init__.py\", line 968, in handle\r\n",
      "    self.emit(record)\r\n",
      "  File \"/Library/Frameworks/Python.framework/Versions/3.10/lib/python3.10/site-packages/pip/_internal/utils/logging.py\", line 179, in emit\r\n",
      "    self.handleError(record)\r\n",
      "Message: '[present-rich] %s'\r\n",
      "Arguments: (UpgradePrompt(old='22.2.1', new='22.3.1'),)\r\n",
      "Note: you may need to restart the kernel to use updated packages.\n"
     ]
    }
   ],
   "source": [
    "pip install matplotlib"
   ]
  },
  {
   "cell_type": "code",
   "execution_count": 40,
   "metadata": {},
   "outputs": [],
   "source": [
    "import sklearn\n",
    "from sklearn.model_selection import train_test_split\n",
    "from sklearn.preprocessing import OneHotEncoder\n",
    "from sklearn.preprocessing import StandardScaler\n",
    "from sklearn.compose import ColumnTransformer\n",
    "from sklearn.linear_model import LogisticRegression \n",
    "from sklearn.pipeline import Pipeline \n",
    "from sklearn.impute import SimpleImputer\n",
    "from sklearn import set_config\n",
    "from sklearn.metrics import accuracy_score\n",
    "from sklearn.decomposition import PCA"
   ]
  },
  {
   "cell_type": "markdown",
   "metadata": {
    "deletable": false,
    "editable": false,
    "id": "JdETeU66gS1E",
    "nbgrader": {
     "cell_type": "markdown",
     "checksum": "037ddc9204ef8e30636e4a2ebf41f852",
     "grade": false,
     "grade_id": "cell-8f995c9cdf882820",
     "locked": true,
     "schema_version": 3,
     "solution": false,
     "task": false
    }
   },
   "source": [
    "<div class=\"alert alert-info\"><b>Exercise 1</b>\n",
    "\n",
    "Load the Human Freedom Index data from the link: https://github.com/jnin/information-systems/raw/main/data/hfi_cc_2021.csv in a DataFrame called ```df```.\n",
    "\n",
    "<br><i>[0.25 points]</i>\n",
    "</div>\n",
    "<div class=\"alert alert-warning\">\n",
    "Do not download the dataset. Instead, read the data directly from the provided link\n",
    "</div>"
   ]
  },
  {
   "cell_type": "code",
   "execution_count": 41,
   "metadata": {
    "deletable": false,
    "id": "2EZ4PgrhYpcn",
    "nbgrader": {
     "cell_type": "code",
     "checksum": "3416f03882927817c5373de161fb4a59",
     "grade": false,
     "grade_id": "ex1",
     "locked": false,
     "schema_version": 3,
     "solution": true,
     "task": false
    }
   },
   "outputs": [],
   "source": [
    "df= pd.read_csv('https://github.com/jnin/information-systems/raw/main/data/hfi_cc_2021.csv')"
   ]
  },
  {
   "cell_type": "code",
   "execution_count": 42,
   "metadata": {
    "deletable": false,
    "editable": false,
    "nbgrader": {
     "cell_type": "code",
     "checksum": "ff6dc58a90ecd286c8037bbd7e772466",
     "grade": true,
     "grade_id": "test1_1",
     "locked": true,
     "points": 0.25,
     "schema_version": 3,
     "solution": false,
     "task": false
    }
   },
   "outputs": [],
   "source": [
    "#LEAVE BLANK"
   ]
  },
  {
   "cell_type": "markdown",
   "metadata": {
    "deletable": false,
    "editable": false,
    "id": "I4Ai5L-bgQI-",
    "nbgrader": {
     "cell_type": "markdown",
     "checksum": "1ca96a1e0c052c3752e7d169fb898ed3",
     "grade": false,
     "grade_id": "cell-cac60b3d5a84bc9f",
     "locked": true,
     "schema_version": 3,
     "solution": false,
     "task": false
    }
   },
   "source": [
    "\n",
    "<div class=\"alert alert-info\"><b>Exercise 2</b>\n",
    "\n",
    "First write the code to drop all the columns from the DataFrame ```df``` except ```['hf_quartile', 'ef_regulation',  'pf_expression', 'region']```, then drop all the rows from ```df``` containing missing values present in the selected columns.\n",
    "\n",
    "<br><i>[0.25 points]</i>\n",
    "</div>\n",
    "\n",
    "<div class=\"alert alert-warning\">\n",
    "\n",
    "Remember, Python is case-sensitive. The resulting DataFrame ```df``` should contain only four columns.\n",
    "\n",
    "</div>\n"
   ]
  },
  {
   "cell_type": "code",
   "execution_count": 43,
   "metadata": {
    "deletable": false,
    "nbgrader": {
     "cell_type": "code",
     "checksum": "e312a6da82f8c4bc37df98d9182e9662",
     "grade": false,
     "grade_id": "ex2",
     "locked": false,
     "schema_version": 3,
     "solution": true,
     "task": false
    }
   },
   "outputs": [],
   "source": [
    "df=df[['hf_quartile', 'ef_regulation',  'pf_expression', 'region']]"
   ]
  },
  {
   "cell_type": "code",
   "execution_count": 44,
   "metadata": {},
   "outputs": [],
   "source": [
    "df=df.dropna(axis=0, how='any', subset=None, inplace=False)"
   ]
  },
  {
   "cell_type": "code",
   "execution_count": 45,
   "metadata": {
    "deletable": false,
    "editable": false,
    "nbgrader": {
     "cell_type": "code",
     "checksum": "993b92c5f265ac6c55d3f4f81f079818",
     "grade": true,
     "grade_id": "test2_1",
     "locked": true,
     "points": 0.25,
     "schema_version": 3,
     "solution": false,
     "task": false
    }
   },
   "outputs": [],
   "source": [
    "#LEAVE BLANK"
   ]
  },
  {
   "cell_type": "markdown",
   "metadata": {
    "deletable": false,
    "editable": false,
    "id": "evERSqB9MPid",
    "nbgrader": {
     "cell_type": "markdown",
     "checksum": "809062917104bc877969d8b047444ff1",
     "grade": false,
     "grade_id": "cell-c7c37aaa2f33b369",
     "locked": true,
     "schema_version": 3,
     "solution": false,
     "task": false
    }
   },
   "source": [
    "<div class=\"alert alert-info\"><b>Exercise 3</b> \n",
    "    \n",
    "Write the code to create the feature matrix ```X``` (```ef_regulation```,  ```pf_expression```, and ```region```) and the target array ```y``` (```hf_quartile```), then split them into separate training and test sets with the relative size of 0.75 and 0.25. Store the training and tests feature matrix in variables called ```X_train``` and ```X_test```, and the training and test label arrays as ```y_train``` and ```y_test```.\n",
    "    \n",
    "<br><i>[1 point]</i>\n",
    "</div>\n"
   ]
  },
  {
   "cell_type": "code",
   "execution_count": 46,
   "metadata": {
    "deletable": false,
    "id": "rnxOTovpEqpu",
    "nbgrader": {
     "cell_type": "code",
     "checksum": "69b315830f2239f6d81c0964227610ff",
     "grade": false,
     "grade_id": "ex3",
     "locked": false,
     "schema_version": 3,
     "solution": true,
     "task": false
    }
   },
   "outputs": [],
   "source": [
    "X= df.drop(columns=['hf_quartile'])\n",
    "y= df['hf_quartile']\n",
    "X_train, X_test, y_train, y_test = train_test_split (X, y, test_size=0.25, random_state=42)"
   ]
  },
  {
   "cell_type": "code",
   "execution_count": 47,
   "metadata": {
    "deletable": false,
    "editable": false,
    "nbgrader": {
     "cell_type": "code",
     "checksum": "a75ee900d85728951e8b462c9756e4a3",
     "grade": true,
     "grade_id": "test3_1",
     "locked": true,
     "points": 0.25,
     "schema_version": 3,
     "solution": false,
     "task": false
    }
   },
   "outputs": [],
   "source": [
    "# LEAVE BLANK"
   ]
  },
  {
   "cell_type": "code",
   "execution_count": 48,
   "metadata": {
    "deletable": false,
    "editable": false,
    "nbgrader": {
     "cell_type": "code",
     "checksum": "af90ecf417b11a9c9a5c8f89ce72125e",
     "grade": true,
     "grade_id": "test3_2",
     "locked": true,
     "points": 0.75,
     "schema_version": 3,
     "solution": false,
     "task": false
    }
   },
   "outputs": [],
   "source": [
    "# LEAVE BLANK"
   ]
  },
  {
   "cell_type": "markdown",
   "metadata": {
    "deletable": false,
    "editable": false,
    "id": "evERSqB9MPid",
    "nbgrader": {
     "cell_type": "markdown",
     "checksum": "1d0ed1b62e0021c85ec54b300514e03a",
     "grade": false,
     "grade_id": "cell-c7c37aaa2f33b36",
     "locked": true,
     "schema_version": 3,
     "solution": false,
     "task": false
    }
   },
   "source": [
    "<div class=\"alert alert-info\"><b>Exercise 4 </b> \n",
    "\n",
    "    \n",
    "The resulting feature matrix contains a categorical variable. Write the code to create a ```ColumnTransformer``` to encode it using the one-hot encoding method. Store the transformer in a variable called ```transformer```. At this stage, you do not need to run it.\n",
    "\n",
    "<br><i>[1 points]</i>\n",
    "</div>\n",
    "\n",
    "<div class='alert alert-warning'>\n",
    "\n",
    "Not all the attributes are categorical. Ensure that all non-categorical attributes remain intact.\n",
    "</div>"
   ]
  },
  {
   "cell_type": "code",
   "execution_count": 49,
   "metadata": {
    "deletable": false,
    "nbgrader": {
     "cell_type": "code",
     "checksum": "00ef2091bcd0c6ccc4ed66e901f1fff9",
     "grade": false,
     "grade_id": "ex4",
     "locked": false,
     "schema_version": 3,
     "solution": true,
     "task": false
    }
   },
   "outputs": [],
   "source": [
    "onehotencoder= OneHotEncoder(sparse=False)\n",
    "transformer = ColumnTransformer([('ohe', onehotencoder, [2])], remainder = 'passthrough')"
   ]
  },
  {
   "cell_type": "code",
   "execution_count": 50,
   "metadata": {
    "deletable": false,
    "editable": false,
    "nbgrader": {
     "cell_type": "code",
     "checksum": "27bbb525950b887058d2bde69862a60d",
     "grade": true,
     "grade_id": "test4_1",
     "locked": true,
     "points": 0.25,
     "schema_version": 3,
     "solution": false,
     "task": false
    }
   },
   "outputs": [],
   "source": [
    "# LEAVE BLANK"
   ]
  },
  {
   "cell_type": "code",
   "execution_count": 51,
   "metadata": {
    "deletable": false,
    "editable": false,
    "nbgrader": {
     "cell_type": "code",
     "checksum": "06fbab0612fd581dc99cc8b78ae50153",
     "grade": true,
     "grade_id": "test4_2",
     "locked": true,
     "points": 0.25,
     "schema_version": 3,
     "solution": false,
     "task": false
    }
   },
   "outputs": [],
   "source": [
    "# LEAVE BLANK"
   ]
  },
  {
   "cell_type": "code",
   "execution_count": 52,
   "metadata": {
    "deletable": false,
    "editable": false,
    "nbgrader": {
     "cell_type": "code",
     "checksum": "f51c987424701b2b20389d302eda4dd4",
     "grade": true,
     "grade_id": "test4_3",
     "locked": true,
     "points": 0.5,
     "schema_version": 3,
     "solution": false,
     "task": false
    }
   },
   "outputs": [],
   "source": [
    "# LEAVE BLANK"
   ]
  },
  {
   "cell_type": "markdown",
   "metadata": {
    "deletable": false,
    "editable": false,
    "id": "evERSqB9MPid",
    "nbgrader": {
     "cell_type": "markdown",
     "checksum": "8a3cdf9b3d150a148d5274132be6a8c3",
     "grade": false,
     "grade_id": "cell-c7c37a1aa2f33b36",
     "locked": true,
     "schema_version": 3,
     "solution": false,
     "task": false
    }
   },
   "source": [
    "<div class=\"alert alert-info\"><b>Exercise 5 </b> \n",
    "\n",
    "Write the code to create a ```Pipeline``` consisting of a ```SimpleImputer``` with the most frequent strategy, the previous transformer, a standard scaler, and a logistic regression model. Store the resulting pipeline in a variable called ```pipe```.\n",
    "    \n",
    "<br><i>[1.5 points]</i>\n",
    "</div>\n",
    "\n",
    "<div class='alert alert-warning'>\n",
    "\n",
    "Be sure you apply the data transformations in the correct order.\n",
    "</div>"
   ]
  },
  {
   "cell_type": "code",
   "execution_count": 53,
   "metadata": {},
   "outputs": [],
   "source": [
    "pipeline_steps=[('imputer', SimpleImputer(strategy=\"most_frequent\")),('preprocess', transformer), ('scale', StandardScaler()), ('lr', LogisticRegression())]\n",
    "pipe = Pipeline(pipeline_steps)"
   ]
  },
  {
   "cell_type": "code",
   "execution_count": 54,
   "metadata": {
    "deletable": false,
    "editable": false,
    "nbgrader": {
     "cell_type": "code",
     "checksum": "feab52ffd464f7779169dc62aeeef594",
     "grade": true,
     "grade_id": "test5_1",
     "locked": true,
     "points": 0.25,
     "schema_version": 3,
     "solution": false,
     "task": false
    }
   },
   "outputs": [],
   "source": [
    "# LEAVE BLANK"
   ]
  },
  {
   "cell_type": "code",
   "execution_count": 55,
   "metadata": {
    "deletable": false,
    "editable": false,
    "nbgrader": {
     "cell_type": "code",
     "checksum": "f7e6fd68043811c24be55eafc6454664",
     "grade": true,
     "grade_id": "test5_2",
     "locked": true,
     "points": 0.25,
     "schema_version": 3,
     "solution": false,
     "task": false
    }
   },
   "outputs": [],
   "source": [
    "# LEAVE BLANK"
   ]
  },
  {
   "cell_type": "code",
   "execution_count": 56,
   "metadata": {
    "deletable": false,
    "editable": false,
    "nbgrader": {
     "cell_type": "code",
     "checksum": "32648c3253e28edaa2a268b2b7600b2c",
     "grade": true,
     "grade_id": "test5_3",
     "locked": true,
     "points": 0.25,
     "schema_version": 3,
     "solution": false,
     "task": false
    }
   },
   "outputs": [],
   "source": [
    "# LEAVE BLANK"
   ]
  },
  {
   "cell_type": "code",
   "execution_count": 57,
   "metadata": {
    "deletable": false,
    "editable": false,
    "nbgrader": {
     "cell_type": "code",
     "checksum": "26247cc3162479a2cd80163ca94d1788",
     "grade": true,
     "grade_id": "test5_4",
     "locked": true,
     "points": 0.25,
     "schema_version": 3,
     "solution": false,
     "task": false
    }
   },
   "outputs": [],
   "source": [
    "# LEAVE BLANK"
   ]
  },
  {
   "cell_type": "code",
   "execution_count": 58,
   "metadata": {
    "deletable": false,
    "editable": false,
    "nbgrader": {
     "cell_type": "code",
     "checksum": "82dcaea030fbb30c949fe3a4c9c4100d",
     "grade": true,
     "grade_id": "test5_5",
     "locked": true,
     "points": 0.5,
     "schema_version": 3,
     "solution": false,
     "task": false
    }
   },
   "outputs": [],
   "source": [
    "# LEAVE BLANK"
   ]
  },
  {
   "cell_type": "markdown",
   "metadata": {
    "deletable": false,
    "editable": false,
    "id": "evERSqB9MPid",
    "nbgrader": {
     "cell_type": "markdown",
     "checksum": "cb719dff68f6fe54574bff8bafc24393",
     "grade": false,
     "grade_id": "cell-c7c37a1aa2fjk33b36",
     "locked": true,
     "schema_version": 3,
     "solution": false,
     "task": false
    }
   },
   "source": [
    "<div class=\"alert alert-info\"><b>Exercise 6 </b> \n",
    "    \n",
    "Write the code to store the achieved ```score``` (accuracy) in a variable called ```score```. \n",
    "    \n",
    "<br><i>[1 point]</i>\n",
    "</div>\n",
    "\n",
    "<div class='alert alert-warning'>\n",
    "\n",
    "Use train and test datasets correctly.\n",
    "</div>"
   ]
  },
  {
   "cell_type": "code",
   "execution_count": 59,
   "metadata": {
    "deletable": false,
    "nbgrader": {
     "cell_type": "code",
     "checksum": "a5d70d0859a7e9513d16031567e1eb90",
     "grade": false,
     "grade_id": "ex6",
     "locked": false,
     "schema_version": 3,
     "solution": true,
     "task": false
    }
   },
   "outputs": [
    {
     "name": "stderr",
     "output_type": "stream",
     "text": [
      "/Library/Frameworks/Python.framework/Versions/3.10/lib/python3.10/site-packages/sklearn/preprocessing/_encoders.py:828: FutureWarning: `sparse` was renamed to `sparse_output` in version 1.2 and will be removed in 1.4. `sparse_output` is ignored unless you leave `sparse` to its default value.\n",
      "  warnings.warn(\n"
     ]
    }
   ],
   "source": [
    "pipe.fit(X_train, y_train)\n",
    "score = pipe.score(X_test, y_test)"
   ]
  },
  {
   "cell_type": "code",
   "execution_count": 60,
   "metadata": {
    "deletable": false,
    "editable": false,
    "nbgrader": {
     "cell_type": "code",
     "checksum": "d9cf0ab476714b541316a114608d967c",
     "grade": true,
     "grade_id": "test6_1",
     "locked": true,
     "points": 1,
     "schema_version": 3,
     "solution": false,
     "task": false
    }
   },
   "outputs": [],
   "source": [
    "# LEAVE BLANK"
   ]
  },
  {
   "cell_type": "markdown",
   "metadata": {
    "deletable": false,
    "editable": false,
    "id": "evERSqB9MPid",
    "nbgrader": {
     "cell_type": "markdown",
     "checksum": "31cda44ca5d916698cf6df997f4aaee4",
     "grade": false,
     "grade_id": "cell-c7c37a1aa2fjk33bhj36",
     "locked": true,
     "schema_version": 3,
     "solution": false,
     "task": false
    }
   },
   "source": [
    "<div class=\"alert alert-info\"><b>Exercise 7 </b> \n",
    "    \n",
    "The previous exercises were simple because they included only three columns. Now repeat the same process but using the complete dataset. This exercise is open. You can use any scaler, imputer, transformer, or encoder. The only requirement is to train a logistic regression. If you decide to drop a column, justify the reason. \n",
    "    \n",
    "<br><i>[5 points]</i>\n",
    "</div>\n",
    "\n",
    "<div class='alert alert-warning'>\n",
    "    \n",
    "The following columns are redundant and should be dropped:\n",
    "* ```year```\n",
    "* ```ISO```\n",
    "* ```countries```\n",
    "* All columns containing the word ```rank``` \n",
    "* All columns containing the word ```score```\n",
    "    \n",
    "</div>\n"
   ]
  },
  {
   "cell_type": "code",
   "execution_count": 61,
   "metadata": {
    "deletable": false,
    "id": "rnxOTovpEqpu",
    "nbgrader": {
     "cell_type": "code",
     "checksum": "d63da504327f2eb69ca079359b186511",
     "grade": true,
     "grade_id": "ex7",
     "locked": false,
     "points": 5,
     "schema_version": 3,
     "solution": true,
     "task": false
    }
   },
   "outputs": [],
   "source": [
    "df= pd.read_csv('https://github.com/jnin/information-systems/raw/main/data/hfi_cc_2021.csv')"
   ]
  },
  {
   "cell_type": "markdown",
   "metadata": {},
   "source": [
    "Step 1: Column removal according to suggestions"
   ]
  },
  {
   "cell_type": "code",
   "execution_count": 62,
   "metadata": {},
   "outputs": [],
   "source": [
    "df=df.drop(list(df.filter(regex='rank')), axis=1)\n",
    "df=df.drop(list(df.filter(regex='score')), axis=1)\n",
    "df=df.drop(['year', 'ISO', 'countries'], axis=1)\n"
   ]
  },
  {
   "cell_type": "markdown",
   "metadata": {},
   "source": [
    "Step 2 : After removing all the columns stated in the instructions, we have decided to remove all features that had over 10% of missing values, as we believe imputing these missing values might lead to biased models. Additionally, we have opted to remove all rows for which the target value 'hf_quartile' is a missing value "
   ]
  },
  {
   "cell_type": "code",
   "execution_count": 63,
   "metadata": {},
   "outputs": [],
   "source": [
    "df= df.drop(df.columns[df.isna().sum()>=200], axis=1)\n",
    "df=df.dropna(subset=['hf_quartile'])"
   ]
  },
  {
   "cell_type": "markdown",
   "metadata": {},
   "source": [
    "Step 3: After this, we calculated the correlation between all features of the dataset and realized that the correlation between most of the features was high! To remedy this issue will use a pipe which will accomplish the following: \n",
    "\n",
    "-Impute the missing values with the mode for categorical features/ median for numerical features + One hot encode categorical variables \n",
    "\n",
    "-Scale all variables using the standard scaler\n",
    "\n",
    "-PCAs to remove all correlation"
   ]
  },
  {
   "cell_type": "code",
   "execution_count": 64,
   "metadata": {},
   "outputs": [],
   "source": [
    "categorical_featX=[]\n",
    "numerical_featX = []\n",
    "featY =[]\n",
    "for col in df.columns: \n",
    "    \n",
    "    if col == 'region':\n",
    "        categorical_featX.append(col)\n",
    "        \n",
    "    elif col== 'hf_quartile':\n",
    "        featY.append(col) \n",
    "        \n",
    "    else:\n",
    "        numerical_featX.append(col)"
   ]
  },
  {
   "cell_type": "markdown",
   "metadata": {},
   "source": [
    "Step 4: Test/Train split "
   ]
  },
  {
   "cell_type": "code",
   "execution_count": 65,
   "metadata": {},
   "outputs": [
    {
     "data": {
      "text/plain": [
       "((1400, 97), (467, 97), (1400,), (467,))"
      ]
     },
     "execution_count": 65,
     "metadata": {},
     "output_type": "execute_result"
    }
   ],
   "source": [
    "#train-test split\n",
    "X= df.drop(columns=['hf_quartile'])\n",
    "y= df['hf_quartile']\n",
    "X_train, X_test, y_train, y_test = train_test_split (X, y, test_size=0.25, random_state=42)\n",
    "X_train.shape, X_test.shape, y_train.shape, y_test.shape\n"
   ]
  },
  {
   "cell_type": "markdown",
   "metadata": {},
   "source": [
    "Step 5: Pipe creation and model score"
   ]
  },
  {
   "cell_type": "code",
   "execution_count": 66,
   "metadata": {},
   "outputs": [],
   "source": [
    "#creating the inner pipe to impute and encode categorical features, and impute numerical features\n",
    "inner_steps_cat = [('imputer', SimpleImputer(strategy='most_frequent')), \n",
    "               ('ohe', OneHotEncoder(sparse=False))]\n",
    "\n",
    "inner_pipe_cat= Pipeline(inner_steps_cat)\n",
    "\n",
    "inner_steps_num = [('imputer', SimpleImputer(strategy='median'))]\n",
    "\n",
    "inner_pipe_num = Pipeline(inner_steps_num)\n",
    "\n",
    "transformer= ColumnTransformer([('preprocessing_cat', inner_pipe_cat, categorical_featX), \n",
    "                                ('preprocessing_num', inner_pipe_num, numerical_featX)], \n",
    "                               remainder='passthrough')"
   ]
  },
  {
   "cell_type": "code",
   "execution_count": 67,
   "metadata": {},
   "outputs": [
    {
     "name": "stderr",
     "output_type": "stream",
     "text": [
      "/Library/Frameworks/Python.framework/Versions/3.10/lib/python3.10/site-packages/sklearn/preprocessing/_encoders.py:828: FutureWarning: `sparse` was renamed to `sparse_output` in version 1.2 and will be removed in 1.4. `sparse_output` is ignored unless you leave `sparse` to its default value.\n",
      "  warnings.warn(\n",
      "/Library/Frameworks/Python.framework/Versions/3.10/lib/python3.10/site-packages/sklearn/linear_model/_logistic.py:458: ConvergenceWarning: lbfgs failed to converge (status=1):\n",
      "STOP: TOTAL NO. of ITERATIONS REACHED LIMIT.\n",
      "\n",
      "Increase the number of iterations (max_iter) or scale the data as shown in:\n",
      "    https://scikit-learn.org/stable/modules/preprocessing.html\n",
      "Please also refer to the documentation for alternative solver options:\n",
      "    https://scikit-learn.org/stable/modules/linear_model.html#logistic-regression\n",
      "  n_iter_i = _check_optimize_result(\n"
     ]
    },
    {
     "data": {
      "text/html": [
       "<style>#sk-container-id-2 {color: black;background-color: white;}#sk-container-id-2 pre{padding: 0;}#sk-container-id-2 div.sk-toggleable {background-color: white;}#sk-container-id-2 label.sk-toggleable__label {cursor: pointer;display: block;width: 100%;margin-bottom: 0;padding: 0.3em;box-sizing: border-box;text-align: center;}#sk-container-id-2 label.sk-toggleable__label-arrow:before {content: \"▸\";float: left;margin-right: 0.25em;color: #696969;}#sk-container-id-2 label.sk-toggleable__label-arrow:hover:before {color: black;}#sk-container-id-2 div.sk-estimator:hover label.sk-toggleable__label-arrow:before {color: black;}#sk-container-id-2 div.sk-toggleable__content {max-height: 0;max-width: 0;overflow: hidden;text-align: left;background-color: #f0f8ff;}#sk-container-id-2 div.sk-toggleable__content pre {margin: 0.2em;color: black;border-radius: 0.25em;background-color: #f0f8ff;}#sk-container-id-2 input.sk-toggleable__control:checked~div.sk-toggleable__content {max-height: 200px;max-width: 100%;overflow: auto;}#sk-container-id-2 input.sk-toggleable__control:checked~label.sk-toggleable__label-arrow:before {content: \"▾\";}#sk-container-id-2 div.sk-estimator input.sk-toggleable__control:checked~label.sk-toggleable__label {background-color: #d4ebff;}#sk-container-id-2 div.sk-label input.sk-toggleable__control:checked~label.sk-toggleable__label {background-color: #d4ebff;}#sk-container-id-2 input.sk-hidden--visually {border: 0;clip: rect(1px 1px 1px 1px);clip: rect(1px, 1px, 1px, 1px);height: 1px;margin: -1px;overflow: hidden;padding: 0;position: absolute;width: 1px;}#sk-container-id-2 div.sk-estimator {font-family: monospace;background-color: #f0f8ff;border: 1px dotted black;border-radius: 0.25em;box-sizing: border-box;margin-bottom: 0.5em;}#sk-container-id-2 div.sk-estimator:hover {background-color: #d4ebff;}#sk-container-id-2 div.sk-parallel-item::after {content: \"\";width: 100%;border-bottom: 1px solid gray;flex-grow: 1;}#sk-container-id-2 div.sk-label:hover label.sk-toggleable__label {background-color: #d4ebff;}#sk-container-id-2 div.sk-serial::before {content: \"\";position: absolute;border-left: 1px solid gray;box-sizing: border-box;top: 0;bottom: 0;left: 50%;z-index: 0;}#sk-container-id-2 div.sk-serial {display: flex;flex-direction: column;align-items: center;background-color: white;padding-right: 0.2em;padding-left: 0.2em;position: relative;}#sk-container-id-2 div.sk-item {position: relative;z-index: 1;}#sk-container-id-2 div.sk-parallel {display: flex;align-items: stretch;justify-content: center;background-color: white;position: relative;}#sk-container-id-2 div.sk-item::before, #sk-container-id-2 div.sk-parallel-item::before {content: \"\";position: absolute;border-left: 1px solid gray;box-sizing: border-box;top: 0;bottom: 0;left: 50%;z-index: -1;}#sk-container-id-2 div.sk-parallel-item {display: flex;flex-direction: column;z-index: 1;position: relative;background-color: white;}#sk-container-id-2 div.sk-parallel-item:first-child::after {align-self: flex-end;width: 50%;}#sk-container-id-2 div.sk-parallel-item:last-child::after {align-self: flex-start;width: 50%;}#sk-container-id-2 div.sk-parallel-item:only-child::after {width: 0;}#sk-container-id-2 div.sk-dashed-wrapped {border: 1px dashed gray;margin: 0 0.4em 0.5em 0.4em;box-sizing: border-box;padding-bottom: 0.4em;background-color: white;}#sk-container-id-2 div.sk-label label {font-family: monospace;font-weight: bold;display: inline-block;line-height: 1.2em;}#sk-container-id-2 div.sk-label-container {text-align: center;}#sk-container-id-2 div.sk-container {/* jupyter's `normalize.less` sets `[hidden] { display: none; }` but bootstrap.min.css set `[hidden] { display: none !important; }` so we also need the `!important` here to be able to override the default hidden behavior on the sphinx rendered scikit-learn.org. See: https://github.com/scikit-learn/scikit-learn/issues/21755 */display: inline-block !important;position: relative;}#sk-container-id-2 div.sk-text-repr-fallback {display: none;}</style><div id=\"sk-container-id-2\" class=\"sk-top-container\"><div class=\"sk-text-repr-fallback\"><pre>Pipeline(steps=[(&#x27;preprocess_data&#x27;,\n",
       "                 ColumnTransformer(remainder=&#x27;passthrough&#x27;,\n",
       "                                   transformers=[(&#x27;preprocessing_cat&#x27;,\n",
       "                                                  Pipeline(steps=[(&#x27;imputer&#x27;,\n",
       "                                                                   SimpleImputer(strategy=&#x27;most_frequent&#x27;)),\n",
       "                                                                  (&#x27;ohe&#x27;,\n",
       "                                                                   OneHotEncoder(sparse=False))]),\n",
       "                                                  [&#x27;region&#x27;]),\n",
       "                                                 (&#x27;preprocessing_num&#x27;,\n",
       "                                                  Pipeline(steps=[(&#x27;imputer&#x27;,\n",
       "                                                                   SimpleImputer(strategy=&#x27;median&#x27;))]),\n",
       "                                                  [&#x27;pf_rol&#x27;, &#x27;pf_ss_homicide&#x27;,\n",
       "                                                   &#x27;pf_ss_di...\n",
       "                                                   &#x27;pf_religion_freedom_vdem&#x27;,\n",
       "                                                   &#x27;pf_religion_freedom_cld&#x27;,\n",
       "                                                   &#x27;pf_religion_freedom&#x27;,\n",
       "                                                   &#x27;pf_religion&#x27;,\n",
       "                                                   &#x27;pf_assembly_entry&#x27;,\n",
       "                                                   &#x27;pf_assembly_freedom_house&#x27;,\n",
       "                                                   &#x27;pf_assembly_freedom_cld&#x27;,\n",
       "                                                   &#x27;pf_assembly_freedom&#x27;,\n",
       "                                                   &#x27;pf_assembly_parties_barriers&#x27;,\n",
       "                                                   &#x27;pf_assembly_parties_bans&#x27;,\n",
       "                                                   &#x27;pf_assembly_parties_auton&#x27;,\n",
       "                                                   &#x27;pf_assembly_parties&#x27;, ...])])),\n",
       "                (&#x27;scale&#x27;, StandardScaler()), (&#x27;pca&#x27;, PCA()),\n",
       "                (&#x27;lr&#x27;, LogisticRegression())])</pre><b>In a Jupyter environment, please rerun this cell to show the HTML representation or trust the notebook. <br />On GitHub, the HTML representation is unable to render, please try loading this page with nbviewer.org.</b></div><div class=\"sk-container\" hidden><div class=\"sk-item sk-dashed-wrapped\"><div class=\"sk-label-container\"><div class=\"sk-label sk-toggleable\"><input class=\"sk-toggleable__control sk-hidden--visually\" id=\"sk-estimator-id-13\" type=\"checkbox\" ><label for=\"sk-estimator-id-13\" class=\"sk-toggleable__label sk-toggleable__label-arrow\">Pipeline</label><div class=\"sk-toggleable__content\"><pre>Pipeline(steps=[(&#x27;preprocess_data&#x27;,\n",
       "                 ColumnTransformer(remainder=&#x27;passthrough&#x27;,\n",
       "                                   transformers=[(&#x27;preprocessing_cat&#x27;,\n",
       "                                                  Pipeline(steps=[(&#x27;imputer&#x27;,\n",
       "                                                                   SimpleImputer(strategy=&#x27;most_frequent&#x27;)),\n",
       "                                                                  (&#x27;ohe&#x27;,\n",
       "                                                                   OneHotEncoder(sparse=False))]),\n",
       "                                                  [&#x27;region&#x27;]),\n",
       "                                                 (&#x27;preprocessing_num&#x27;,\n",
       "                                                  Pipeline(steps=[(&#x27;imputer&#x27;,\n",
       "                                                                   SimpleImputer(strategy=&#x27;median&#x27;))]),\n",
       "                                                  [&#x27;pf_rol&#x27;, &#x27;pf_ss_homicide&#x27;,\n",
       "                                                   &#x27;pf_ss_di...\n",
       "                                                   &#x27;pf_religion_freedom_vdem&#x27;,\n",
       "                                                   &#x27;pf_religion_freedom_cld&#x27;,\n",
       "                                                   &#x27;pf_religion_freedom&#x27;,\n",
       "                                                   &#x27;pf_religion&#x27;,\n",
       "                                                   &#x27;pf_assembly_entry&#x27;,\n",
       "                                                   &#x27;pf_assembly_freedom_house&#x27;,\n",
       "                                                   &#x27;pf_assembly_freedom_cld&#x27;,\n",
       "                                                   &#x27;pf_assembly_freedom&#x27;,\n",
       "                                                   &#x27;pf_assembly_parties_barriers&#x27;,\n",
       "                                                   &#x27;pf_assembly_parties_bans&#x27;,\n",
       "                                                   &#x27;pf_assembly_parties_auton&#x27;,\n",
       "                                                   &#x27;pf_assembly_parties&#x27;, ...])])),\n",
       "                (&#x27;scale&#x27;, StandardScaler()), (&#x27;pca&#x27;, PCA()),\n",
       "                (&#x27;lr&#x27;, LogisticRegression())])</pre></div></div></div><div class=\"sk-serial\"><div class=\"sk-item sk-dashed-wrapped\"><div class=\"sk-label-container\"><div class=\"sk-label sk-toggleable\"><input class=\"sk-toggleable__control sk-hidden--visually\" id=\"sk-estimator-id-14\" type=\"checkbox\" ><label for=\"sk-estimator-id-14\" class=\"sk-toggleable__label sk-toggleable__label-arrow\">preprocess_data: ColumnTransformer</label><div class=\"sk-toggleable__content\"><pre>ColumnTransformer(remainder=&#x27;passthrough&#x27;,\n",
       "                  transformers=[(&#x27;preprocessing_cat&#x27;,\n",
       "                                 Pipeline(steps=[(&#x27;imputer&#x27;,\n",
       "                                                  SimpleImputer(strategy=&#x27;most_frequent&#x27;)),\n",
       "                                                 (&#x27;ohe&#x27;,\n",
       "                                                  OneHotEncoder(sparse=False))]),\n",
       "                                 [&#x27;region&#x27;]),\n",
       "                                (&#x27;preprocessing_num&#x27;,\n",
       "                                 Pipeline(steps=[(&#x27;imputer&#x27;,\n",
       "                                                  SimpleImputer(strategy=&#x27;median&#x27;))]),\n",
       "                                 [&#x27;pf_rol&#x27;, &#x27;pf_ss_homicide&#x27;,\n",
       "                                  &#x27;pf_ss_disappearances_disap&#x27;,\n",
       "                                  &#x27;pf_ss_disappea...\n",
       "                                  &#x27;pf_movement_cld&#x27;, &#x27;pf_movement&#x27;,\n",
       "                                  &#x27;pf_religion_suppression&#x27;,\n",
       "                                  &#x27;pf_religion_freedom_vdem&#x27;,\n",
       "                                  &#x27;pf_religion_freedom_cld&#x27;,\n",
       "                                  &#x27;pf_religion_freedom&#x27;, &#x27;pf_religion&#x27;,\n",
       "                                  &#x27;pf_assembly_entry&#x27;,\n",
       "                                  &#x27;pf_assembly_freedom_house&#x27;,\n",
       "                                  &#x27;pf_assembly_freedom_cld&#x27;,\n",
       "                                  &#x27;pf_assembly_freedom&#x27;,\n",
       "                                  &#x27;pf_assembly_parties_barriers&#x27;,\n",
       "                                  &#x27;pf_assembly_parties_bans&#x27;,\n",
       "                                  &#x27;pf_assembly_parties_auton&#x27;,\n",
       "                                  &#x27;pf_assembly_parties&#x27;, ...])])</pre></div></div></div><div class=\"sk-parallel\"><div class=\"sk-parallel-item\"><div class=\"sk-item\"><div class=\"sk-label-container\"><div class=\"sk-label sk-toggleable\"><input class=\"sk-toggleable__control sk-hidden--visually\" id=\"sk-estimator-id-15\" type=\"checkbox\" ><label for=\"sk-estimator-id-15\" class=\"sk-toggleable__label sk-toggleable__label-arrow\">preprocessing_cat</label><div class=\"sk-toggleable__content\"><pre>[&#x27;region&#x27;]</pre></div></div></div><div class=\"sk-serial\"><div class=\"sk-item\"><div class=\"sk-serial\"><div class=\"sk-item\"><div class=\"sk-estimator sk-toggleable\"><input class=\"sk-toggleable__control sk-hidden--visually\" id=\"sk-estimator-id-16\" type=\"checkbox\" ><label for=\"sk-estimator-id-16\" class=\"sk-toggleable__label sk-toggleable__label-arrow\">SimpleImputer</label><div class=\"sk-toggleable__content\"><pre>SimpleImputer(strategy=&#x27;most_frequent&#x27;)</pre></div></div></div><div class=\"sk-item\"><div class=\"sk-estimator sk-toggleable\"><input class=\"sk-toggleable__control sk-hidden--visually\" id=\"sk-estimator-id-17\" type=\"checkbox\" ><label for=\"sk-estimator-id-17\" class=\"sk-toggleable__label sk-toggleable__label-arrow\">OneHotEncoder</label><div class=\"sk-toggleable__content\"><pre>OneHotEncoder(sparse=False)</pre></div></div></div></div></div></div></div></div><div class=\"sk-parallel-item\"><div class=\"sk-item\"><div class=\"sk-label-container\"><div class=\"sk-label sk-toggleable\"><input class=\"sk-toggleable__control sk-hidden--visually\" id=\"sk-estimator-id-18\" type=\"checkbox\" ><label for=\"sk-estimator-id-18\" class=\"sk-toggleable__label sk-toggleable__label-arrow\">preprocessing_num</label><div class=\"sk-toggleable__content\"><pre>[&#x27;pf_rol&#x27;, &#x27;pf_ss_homicide&#x27;, &#x27;pf_ss_disappearances_disap&#x27;, &#x27;pf_ss_disappearances_violent&#x27;, &#x27;pf_ss_disappearances_organized&#x27;, &#x27;pf_ss_disappearances_fatalities&#x27;, &#x27;pf_ss_disappearances_injuries&#x27;, &#x27;pf_ss_disappearances_torture&#x27;, &#x27;pf_ss_killings&#x27;, &#x27;pf_ss_disappearances&#x27;, &#x27;pf_ss&#x27;, &#x27;pf_movement_vdem_foreign&#x27;, &#x27;pf_movement_vdem_men&#x27;, &#x27;pf_movement_vdem_women&#x27;, &#x27;pf_movement_vdem&#x27;, &#x27;pf_movement_cld&#x27;, &#x27;pf_movement&#x27;, &#x27;pf_religion_suppression&#x27;, &#x27;pf_religion_freedom_vdem&#x27;, &#x27;pf_religion_freedom_cld&#x27;, &#x27;pf_religion_freedom&#x27;, &#x27;pf_religion&#x27;, &#x27;pf_assembly_entry&#x27;, &#x27;pf_assembly_freedom_house&#x27;, &#x27;pf_assembly_freedom_cld&#x27;, &#x27;pf_assembly_freedom&#x27;, &#x27;pf_assembly_parties_barriers&#x27;, &#x27;pf_assembly_parties_bans&#x27;, &#x27;pf_assembly_parties_auton&#x27;, &#x27;pf_assembly_parties&#x27;, &#x27;pf_assembly_civil&#x27;, &#x27;pf_assembly&#x27;, &#x27;pf_expression_killed&#x27;, &#x27;pf_expression_jailed&#x27;, &#x27;pf_expression_media&#x27;, &#x27;pf_expression_cultural&#x27;, &#x27;pf_expression_gov&#x27;, &#x27;pf_expression_internet&#x27;, &#x27;pf_expression_harass&#x27;, &#x27;pf_expression_selfcens&#x27;, &#x27;pf_expression_freedom_cld&#x27;, &#x27;pf_expression_freedom&#x27;, &#x27;pf_expression&#x27;, &#x27;pf_identity_same_m&#x27;, &#x27;pf_identity_same_f&#x27;, &#x27;pf_identity_same&#x27;, &#x27;pf_identity_divorce&#x27;, &#x27;pf_identity_fgm&#x27;, &#x27;pf_identity_inheritance&#x27;, &#x27;pf_identity&#x27;, &#x27;pf_womens&#x27;, &#x27;ef_government_consumption&#x27;, &#x27;ef_government_enterprises&#x27;, &#x27;ef_government_tax_income&#x27;, &#x27;ef_government_tax&#x27;, &#x27;ef_government_soa&#x27;, &#x27;ef_government&#x27;, &#x27;ef_legal_judicial&#x27;, &#x27;ef_legal_courts&#x27;, &#x27;ef_legal_protection&#x27;, &#x27;ef_legal_integrity&#x27;, &#x27;ef_legal_enforcement&#x27;, &#x27;ef_legal_regulatory&#x27;, &#x27;ef_legal_police&#x27;, &#x27;ef_legal&#x27;, &#x27;ef_money_growth&#x27;, &#x27;ef_money_sd&#x27;, &#x27;ef_money_inflation&#x27;, &#x27;ef_money_currency&#x27;, &#x27;ef_money&#x27;, &#x27;ef_trade_tariffs_mean&#x27;, &#x27;ef_trade_tariffs_sd&#x27;, &#x27;ef_trade_tariffs&#x27;, &#x27;ef_trade_regulatory_compliance&#x27;, &#x27;ef_trade_regulatory&#x27;, &#x27;ef_trade_black&#x27;, &#x27;ef_trade_movement_foreign&#x27;, &#x27;ef_trade_movement_capital&#x27;, &#x27;ef_trade_movement_visit&#x27;, &#x27;ef_trade_movement&#x27;, &#x27;ef_trade&#x27;, &#x27;ef_regulation_credit_private&#x27;, &#x27;ef_regulation_credit_interest&#x27;, &#x27;ef_regulation_credit&#x27;, &#x27;ef_regulation_labor_minwage&#x27;, &#x27;ef_regulation_labor_hours&#x27;, &#x27;ef_regulation_labor_dismissal&#x27;, &#x27;ef_regulation_labor_conscription&#x27;, &#x27;ef_regulation_labor&#x27;, &#x27;ef_regulation_business_bureaucracy&#x27;, &#x27;ef_regulation_business_start&#x27;, &#x27;ef_regulation_business_bribes&#x27;, &#x27;ef_regulation_business_licensing&#x27;, &#x27;ef_regulation_business_compliance&#x27;, &#x27;ef_regulation_business&#x27;, &#x27;ef_regulation&#x27;]</pre></div></div></div><div class=\"sk-serial\"><div class=\"sk-item\"><div class=\"sk-serial\"><div class=\"sk-item\"><div class=\"sk-estimator sk-toggleable\"><input class=\"sk-toggleable__control sk-hidden--visually\" id=\"sk-estimator-id-19\" type=\"checkbox\" ><label for=\"sk-estimator-id-19\" class=\"sk-toggleable__label sk-toggleable__label-arrow\">SimpleImputer</label><div class=\"sk-toggleable__content\"><pre>SimpleImputer(strategy=&#x27;median&#x27;)</pre></div></div></div></div></div></div></div></div><div class=\"sk-parallel-item\"><div class=\"sk-item\"><div class=\"sk-label-container\"><div class=\"sk-label sk-toggleable\"><input class=\"sk-toggleable__control sk-hidden--visually\" id=\"sk-estimator-id-20\" type=\"checkbox\" ><label for=\"sk-estimator-id-20\" class=\"sk-toggleable__label sk-toggleable__label-arrow\">remainder</label><div class=\"sk-toggleable__content\"><pre>[]</pre></div></div></div><div class=\"sk-serial\"><div class=\"sk-item\"><div class=\"sk-estimator sk-toggleable\"><input class=\"sk-toggleable__control sk-hidden--visually\" id=\"sk-estimator-id-21\" type=\"checkbox\" ><label for=\"sk-estimator-id-21\" class=\"sk-toggleable__label sk-toggleable__label-arrow\">passthrough</label><div class=\"sk-toggleable__content\"><pre>passthrough</pre></div></div></div></div></div></div></div></div><div class=\"sk-item\"><div class=\"sk-estimator sk-toggleable\"><input class=\"sk-toggleable__control sk-hidden--visually\" id=\"sk-estimator-id-22\" type=\"checkbox\" ><label for=\"sk-estimator-id-22\" class=\"sk-toggleable__label sk-toggleable__label-arrow\">StandardScaler</label><div class=\"sk-toggleable__content\"><pre>StandardScaler()</pre></div></div></div><div class=\"sk-item\"><div class=\"sk-estimator sk-toggleable\"><input class=\"sk-toggleable__control sk-hidden--visually\" id=\"sk-estimator-id-23\" type=\"checkbox\" ><label for=\"sk-estimator-id-23\" class=\"sk-toggleable__label sk-toggleable__label-arrow\">PCA</label><div class=\"sk-toggleable__content\"><pre>PCA()</pre></div></div></div><div class=\"sk-item\"><div class=\"sk-estimator sk-toggleable\"><input class=\"sk-toggleable__control sk-hidden--visually\" id=\"sk-estimator-id-24\" type=\"checkbox\" ><label for=\"sk-estimator-id-24\" class=\"sk-toggleable__label sk-toggleable__label-arrow\">LogisticRegression</label><div class=\"sk-toggleable__content\"><pre>LogisticRegression()</pre></div></div></div></div></div></div></div>"
      ],
      "text/plain": [
       "Pipeline(steps=[('preprocess_data',\n",
       "                 ColumnTransformer(remainder='passthrough',\n",
       "                                   transformers=[('preprocessing_cat',\n",
       "                                                  Pipeline(steps=[('imputer',\n",
       "                                                                   SimpleImputer(strategy='most_frequent')),\n",
       "                                                                  ('ohe',\n",
       "                                                                   OneHotEncoder(sparse=False))]),\n",
       "                                                  ['region']),\n",
       "                                                 ('preprocessing_num',\n",
       "                                                  Pipeline(steps=[('imputer',\n",
       "                                                                   SimpleImputer(strategy='median'))]),\n",
       "                                                  ['pf_rol', 'pf_ss_homicide',\n",
       "                                                   'pf_ss_di...\n",
       "                                                   'pf_religion_freedom_vdem',\n",
       "                                                   'pf_religion_freedom_cld',\n",
       "                                                   'pf_religion_freedom',\n",
       "                                                   'pf_religion',\n",
       "                                                   'pf_assembly_entry',\n",
       "                                                   'pf_assembly_freedom_house',\n",
       "                                                   'pf_assembly_freedom_cld',\n",
       "                                                   'pf_assembly_freedom',\n",
       "                                                   'pf_assembly_parties_barriers',\n",
       "                                                   'pf_assembly_parties_bans',\n",
       "                                                   'pf_assembly_parties_auton',\n",
       "                                                   'pf_assembly_parties', ...])])),\n",
       "                ('scale', StandardScaler()), ('pca', PCA()),\n",
       "                ('lr', LogisticRegression())])"
      ]
     },
     "execution_count": 67,
     "metadata": {},
     "output_type": "execute_result"
    }
   ],
   "source": [
    "#creating the main pipe that carries out the inner pipe contained in transformer variable, scales our variables, creates PCAs, and then trains a Logistic Regression. \n",
    "pca=PCA()\n",
    "steps= [('preprocess_data', transformer),\n",
    "        ('scale', StandardScaler()),\n",
    "        ('pca', pca),\n",
    "        ('lr', LogisticRegression())]\n",
    "pipe = Pipeline(steps)\n",
    "pipe.fit(X_train, y_train)\n"
   ]
  },
  {
   "cell_type": "code",
   "execution_count": 68,
   "metadata": {},
   "outputs": [
    {
     "data": {
      "text/plain": [
       "0.9464668094218416"
      ]
     },
     "execution_count": 68,
     "metadata": {},
     "output_type": "execute_result"
    }
   ],
   "source": [
    "#Logistic Regression score\n",
    "pipe.score(X_test, y_test)"
   ]
  },
  {
   "cell_type": "code",
   "execution_count": 70,
   "metadata": {},
   "outputs": [
    {
     "data": {
      "image/png": "[encoded data removed]",
      "text/plain": [
       "<Figure size 640x480 with 1 Axes>"
      ]
     },
     "metadata": {},
     "output_type": "display_data"
    }
   ],
   "source": [
    "\n",
    "plt.plot(pca.explained_variance_ratio_)\n",
    "plt.xlabel('Number of Components')\n",
    "plt.ylabel('Explained Variance')\n",
    "plt.show()"
   ]
  },
  {
   "cell_type": "code",
   "execution_count": null,
   "metadata": {},
   "outputs": [],
   "source": []
  }
 ],
 "metadata": {
  "colab": {
   "collapsed_sections": [],
   "name": "Session I.ipynb",
   "provenance": []
  },
  "kernelspec": {
   "display_name": "Python 3",
   "language": "python",
   "name": "python3"
  },
  "language_info": {
   "codemirror_mode": {
    "name": "ipython",
    "version": 3
   },
   "file_extension": ".py",
   "mimetype": "text/x-python",
   "name": "python",
   "nbconvert_exporter": "python",
   "pygments_lexer": "ipython3",
   "version": "3.10.6 (v3.10.6:9c7b4bd164, Aug  1 2022, 17:13:48) [Clang 13.0.0 (clang-1300.0.29.30)]"
  },
  "vscode": {
   "interpreter": {
    "hash": "aee8b7b246df8f9039afb4144a1f6fd8d2ca17a180786b69acc140d282b71a49"
   }
  }
 },
 "nbformat": 4,
 "nbformat_minor": 1
}
