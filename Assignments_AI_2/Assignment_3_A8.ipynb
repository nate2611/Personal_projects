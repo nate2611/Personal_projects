{
  "cells": [
    {
      "cell_type": "markdown",
      "metadata": {
        "deletable": false,
        "editable": false,
        "id": "1_t4V9bnt-hB",
        "nbgrader": {
          "cell_type": "markdown",
          "checksum": "c58f8741fe985f474c08ed40f646c191",
          "grade": false,
          "grade_id": "cell-e911fa75d4ae6ea9",
          "locked": true,
          "schema_version": 3,
          "solution": false,
          "task": false
        }
      },
      "source": [
        "\n",
        "# Assignment 3: Deep Learning Classifier for The Human Freedom Index\n",
        "\n",
        "This notebook contains a set of exercises that will guide you through the different steps of this assignment. Solutions need to be code-based, _i.e._ hard-coded or manually computed results will not be accepted. Remember to write your solutions to each exercise in the dedicated cells and to not modify the test cells. When you are done completing all the exercises submit this same notebook back to moodle in **.ipynb** format.\n",
        "\n",
        "<div class=\"alert alert-success\">\n",
        "\n",
        "The <a href=\"https://www.cato.org/human-freedom-index/2021 \">Human Freedom Index</a> measures economic freedoms such as the freedom to trade or to use sound money, and it captures the degree to which people are free to enjoy the major freedoms often referred to as civil liberties—freedom of speech, religion, association, and assembly— in the countries in the survey. In addition, it includes indicators on rule of law, crime and violence, freedom of movement, and legal discrimination against same-sex relationships. We also include nine variables pertaining to women-specific freedoms that are found in various categories of the index.\n",
        "\n",
        "<u>Citation</u>\n",
        "\n",
        "Ian Vásquez, Fred McMahon, Ryan Murphy, and Guillermina Sutter Schneider, The Human Freedom Index 2021: A Global Measurement of Personal, Civil, and Economic Freedom (Washington: Cato Institute and the Fraser Institute, 2021).\n",
        "    \n",
        "</div>\n",
        "\n",
        "\n",
        "<div class=\"alert alert-danger\"><b>Submission deadline:</b> Sunday, February 26th, 23:55</div>\n"
      ]
    },
    {
      "cell_type": "code",
      "execution_count": 1,
      "metadata": {
        "deletable": false,
        "editable": false,
        "id": "go5KGgfLEUyd",
        "nbgrader": {
          "cell_type": "code",
          "checksum": "a0f1f0289d715c8a9dce469c89a4174b",
          "grade": false,
          "grade_id": "cell-0d9a7d4e70c072c6",
          "locked": true,
          "schema_version": 3,
          "solution": false,
          "task": false
        }
      },
      "outputs": [],
      "source": [
        "import numpy as np\n",
        "import pandas as pd"
      ]
    },
    {
      "cell_type": "markdown",
      "metadata": {
        "deletable": false,
        "editable": false,
        "id": "JdETeU66gS1E",
        "nbgrader": {
          "cell_type": "markdown",
          "checksum": "bebee96172420cbb89cac8d95a01f51c",
          "grade": false,
          "grade_id": "cell-8f995c9cdf882820",
          "locked": true,
          "schema_version": 3,
          "solution": false,
          "task": false
        }
      },
      "source": [
        "<div class=\"alert alert-info\"><b>Exercise 1</b>\n",
        "\n",
        "Load the Human Freedom Index data from the link: https://github.com/jnin/information-systems/raw/main/data/hfi_cc_2021.csv in a DataFrame called ```df```. The following columns are redundant and should be dropped:\n",
        "* ```year```\n",
        "* ```ISO```\n",
        "* ```countries```\n",
        "* All columns containing the word ```rank``` \n",
        "* All columns containing the word ```score```\n",
        "    \n",
        "Then store the independent variables in a DataFrame called ```X``` and the dependent variable (```hf_quartile```) in a DataFrame called ```y```. Finally, split them into separate training and test sets with the relative size of 0.75 and 0.25. Store the training and tests feature matrix in variables called ```X_train``` and ```X_test```, and the training and test label arrays as ```y_train``` and ```y_test```.\n",
        "\n",
        "<br><i>[1 point]</i>\n",
        "</div>\n",
        "<div class=\"alert alert-warning\">\n",
        "Do not download the dataset. Instead, read the data directly from the provided link\n",
        "</div>"
      ]
    },
    {
      "cell_type": "code",
      "execution_count": 2,
      "metadata": {
        "deletable": false,
        "id": "6hfoHPr3EUym",
        "nbgrader": {
          "cell_type": "code",
          "checksum": "3416f03882927817c5373de161fb4a59",
          "grade": false,
          "grade_id": "ex1",
          "locked": false,
          "schema_version": 3,
          "solution": true,
          "task": false
        }
      },
      "outputs": [],
      "source": [
        "# YOUR CODE HERE\n",
        "df = pd.read_csv(\"https://github.com/jnin/information-systems/raw/main/data/hfi_cc_2021.csv\")\n",
        "\n",
        "#Remove missing values in the target variable\n",
        "df.dropna(subset=['hf_quartile'], inplace=True)\n",
        "\n",
        "#Remove columns suggested in exercise instructions\n",
        "df = df.drop(columns=['year', 'ISO', 'countries'])\n",
        "df=df.drop(list(df.filter(regex='rank')), axis=1)\n",
        "df=df.drop(list(df.filter(regex='score')), axis=1)\n",
        "\n",
        "#Store the independant variables in X and target in y\n",
        "y = df['hf_quartile']\n",
        "X = df.drop(columns=['hf_quartile'])\n",
        "\n",
        "#train-test-split\n",
        "from sklearn.model_selection import train_test_split\n",
        "X_train, X_test, y_train, y_test = train_test_split (X, y, test_size=0.25, random_state=42)"
      ]
    },
    {
      "cell_type": "code",
      "execution_count": null,
      "metadata": {
        "deletable": false,
        "editable": false,
        "id": "biH4ZsdZEUyq",
        "nbgrader": {
          "cell_type": "code",
          "checksum": "2c0033466b08ac6c5bf6cdebb2dbdbe6",
          "grade": true,
          "grade_id": "test1_2",
          "locked": true,
          "points": 0.2,
          "schema_version": 3,
          "solution": false,
          "task": false
        }
      },
      "outputs": [],
      "source": [
        "# LEAVE BLANK"
      ]
    },
    {
      "cell_type": "code",
      "execution_count": null,
      "metadata": {
        "deletable": false,
        "editable": false,
        "id": "lZordDZ3EUyr",
        "nbgrader": {
          "cell_type": "code",
          "checksum": "3b0f56767b545c98b31f1819d90dd70d",
          "grade": true,
          "grade_id": "test1_3",
          "locked": true,
          "points": 0.2,
          "schema_version": 3,
          "solution": false,
          "task": false
        }
      },
      "outputs": [],
      "source": [
        "# LEAVE BLANK"
      ]
    },
    {
      "cell_type": "code",
      "execution_count": null,
      "metadata": {
        "deletable": false,
        "editable": false,
        "id": "ufiPU8ziEUyt",
        "nbgrader": {
          "cell_type": "code",
          "checksum": "755bed2ee798872b12246e5bc9bfc73d",
          "grade": true,
          "grade_id": "test1_4",
          "locked": true,
          "points": 0.2,
          "schema_version": 3,
          "solution": false,
          "task": false
        }
      },
      "outputs": [],
      "source": [
        "## LEAVE BLANK"
      ]
    },
    {
      "cell_type": "code",
      "execution_count": null,
      "metadata": {
        "deletable": false,
        "editable": false,
        "id": "X7OgGXG9EUyv",
        "nbgrader": {
          "cell_type": "code",
          "checksum": "a8788fb2e05fe31d6ca92ee0500615a1",
          "grade": true,
          "grade_id": "test1_5",
          "locked": true,
          "points": 0.3,
          "schema_version": 3,
          "solution": false,
          "task": false
        }
      },
      "outputs": [],
      "source": [
        "# LEAVE BLANK"
      ]
    },
    {
      "cell_type": "markdown",
      "metadata": {
        "deletable": false,
        "editable": false,
        "id": "I4Ai5L-bgQI-",
        "nbgrader": {
          "cell_type": "markdown",
          "checksum": "9d712e28174dc51a1674a4ee27b4ecae",
          "grade": false,
          "grade_id": "cell-cac60b3d5artw84bcasdfa",
          "locked": true,
          "schema_version": 3,
          "solution": false,
          "task": false
        }
      },
      "source": [
        "<div class=\"alert alert-info\"><b>Exercise 2</b>\n",
        "\n",
        "Write the code to create a ```Pipeline``` consisting of a ```SimpleImputer``` with the most frequent strategy, a ```OneHotEncoder``` for the categorical variables, a standard scaler, and a ```MLPClassifier``` model specifying ```max_iter``` equal to 250. Store the resulting pipeline in a variable called ```pipe```.   \n",
        "\n",
        "<br><i>[1.5 points]</i>\n",
        "</div>"
      ]
    },
    {
      "cell_type": "code",
      "execution_count": null,
      "metadata": {
        "deletable": false,
        "id": "cy0XKs43EUy1",
        "nbgrader": {
          "cell_type": "code",
          "checksum": "e312a6da82f8c4bc37df98d9182e9662",
          "grade": false,
          "grade_id": "ex2",
          "locked": false,
          "schema_version": 3,
          "solution": true,
          "task": false
        }
      },
      "outputs": [],
      "source": [
        "from sklearn.compose import ColumnTransformer\n",
        "from sklearn.pipeline import Pipeline \n",
        "from sklearn.impute import SimpleImputer\n",
        "from sklearn.preprocessing import OneHotEncoder\n",
        "from sklearn.neural_network import MLPClassifier\n",
        "from sklearn.datasets import make_classification\n",
        "from sklearn.model_selection import train_test_split\n",
        "from sklearn.preprocessing import StandardScaler\n",
        "\n",
        "#Creating the transformer for the pipe \n",
        "\n",
        "simpleimputer=SimpleImputer(strategy='most_frequent')\n",
        "onehotencoder = OneHotEncoder()\n",
        "transformer= ColumnTransformer([('ohe', onehotencoder, [0])], remainder='passthrough')\n",
        "pipe_steps = [('imputer', simpleimputer), ('transformer', transformer),('scaler', StandardScaler()), ('clf', MLPClassifier(max_iter=250))]\n",
        "pipe=Pipeline(pipe_steps)\n",
        "\n"
      ]
    },
    {
      "cell_type": "code",
      "execution_count": null,
      "metadata": {
        "deletable": false,
        "editable": false,
        "id": "ussU_qd-EUy2",
        "nbgrader": {
          "cell_type": "code",
          "checksum": "c84ce79ab8438b4989df0a97587050ea",
          "grade": true,
          "grade_id": "test2_2",
          "locked": true,
          "points": 0.1,
          "schema_version": 3,
          "solution": false,
          "task": false
        }
      },
      "outputs": [],
      "source": [
        "# LEAVE BLANK"
      ]
    },
    {
      "cell_type": "code",
      "execution_count": null,
      "metadata": {
        "deletable": false,
        "editable": false,
        "id": "zQAfLKk1EUy3",
        "nbgrader": {
          "cell_type": "code",
          "checksum": "7ca2e71544afe309a37d8dbce6dab47b",
          "grade": true,
          "grade_id": "test2_3",
          "locked": true,
          "points": 0.1,
          "schema_version": 3,
          "solution": false,
          "task": false
        }
      },
      "outputs": [],
      "source": [
        "# LEAVE BLANK"
      ]
    },
    {
      "cell_type": "code",
      "execution_count": null,
      "metadata": {
        "deletable": false,
        "editable": false,
        "id": "YMh0G0P7EUy5",
        "nbgrader": {
          "cell_type": "code",
          "checksum": "a7c5f626aa1abe491f75008bc35af018",
          "grade": true,
          "grade_id": "test2_4",
          "locked": true,
          "points": 0.1,
          "schema_version": 3,
          "solution": false,
          "task": false
        }
      },
      "outputs": [],
      "source": [
        "# LEAVE BLANK"
      ]
    },
    {
      "cell_type": "code",
      "execution_count": null,
      "metadata": {
        "deletable": false,
        "editable": false,
        "id": "5g2FndLOEUy6",
        "nbgrader": {
          "cell_type": "code",
          "checksum": "d113b50bce032098393dce9093d1f82c",
          "grade": true,
          "grade_id": "test2_5",
          "locked": true,
          "points": 0.1,
          "schema_version": 3,
          "solution": false,
          "task": false
        }
      },
      "outputs": [],
      "source": [
        "# LEAVE BLANK"
      ]
    },
    {
      "cell_type": "code",
      "execution_count": null,
      "metadata": {
        "deletable": false,
        "editable": false,
        "id": "ydeur3YKEUy7",
        "nbgrader": {
          "cell_type": "code",
          "checksum": "9b17d1f407ece98a9603a274fd3f7bfb",
          "grade": true,
          "grade_id": "test2_6",
          "locked": true,
          "points": 0.1,
          "schema_version": 3,
          "solution": false,
          "task": false
        }
      },
      "outputs": [],
      "source": [
        "# LEAVE BLANK"
      ]
    },
    {
      "cell_type": "code",
      "execution_count": null,
      "metadata": {
        "deletable": false,
        "editable": false,
        "id": "OuOlAwjIEUy8",
        "nbgrader": {
          "cell_type": "code",
          "checksum": "e15cf0e412fd69d8ad949be7088fcad1",
          "grade": true,
          "grade_id": "test2_7",
          "locked": true,
          "points": 0.5,
          "schema_version": 3,
          "solution": false,
          "task": false
        }
      },
      "outputs": [],
      "source": [
        "# LEAVE BLANK"
      ]
    },
    {
      "cell_type": "code",
      "execution_count": null,
      "metadata": {
        "deletable": false,
        "editable": false,
        "id": "rnO3DsDzEUy-",
        "nbgrader": {
          "cell_type": "code",
          "checksum": "a090ebf1107dcd8b38b89535e96dd809",
          "grade": true,
          "grade_id": "test2_8",
          "locked": true,
          "points": 0.5,
          "schema_version": 3,
          "solution": false,
          "task": false
        }
      },
      "outputs": [],
      "source": [
        "# LEAVE BLANK"
      ]
    },
    {
      "cell_type": "code",
      "execution_count": null,
      "metadata": {
        "deletable": false,
        "editable": false,
        "id": "-Y6Np6LdEUy-",
        "nbgrader": {
          "cell_type": "code",
          "checksum": "20e7412999d80a94cea4a604f255684a",
          "grade": true,
          "grade_id": "cell-70c160a7290ae44e",
          "locked": true,
          "points": 0,
          "schema_version": 3,
          "solution": false,
          "task": false
        }
      },
      "outputs": [],
      "source": [
        "# LEAVE BLANK"
      ]
    },
    {
      "cell_type": "markdown",
      "metadata": {
        "deletable": false,
        "editable": false,
        "id": "-xiHr2TUEUy_",
        "nbgrader": {
          "cell_type": "markdown",
          "checksum": "0ac6ae49b1e1a15336c91e711fa1e5fb",
          "grade": false,
          "grade_id": "cell-cac60b3adfasw84bcasdfa",
          "locked": true,
          "schema_version": 3,
          "solution": false,
          "task": false
        }
      },
      "source": [
        "<div class=\"alert alert-info\"><b>Exercise 3</b>\n",
        "    \n",
        "Write the code to create a GridSearchCV object called ```grid``` and fit it. The grid search object must contain the pipeline created in the previous exercise. Then, consider the following hyperparameters:\n",
        "* ```learning_rate_init``` : [0.001, 0.0001]\n",
        "* ```alpha``` : [0.0001,1]\n",
        "\n",
        "Finally, store the best score (accuracy) of the training phase in a variable called ```training_score```.\n",
        "<br><i>[1.5 point]</i>\n",
        "</div>"
      ]
    },
    {
      "cell_type": "code",
      "execution_count": null,
      "metadata": {
        "colab": {
          "base_uri": "https://localhost:8080/"
        },
        "deletable": false,
        "id": "Fgo3ztCqEUzA",
        "nbgrader": {
          "cell_type": "code",
          "checksum": "69b315830f2239f6d81c0964227610ff",
          "grade": false,
          "grade_id": "ex3",
          "locked": false,
          "schema_version": 3,
          "solution": true,
          "task": false
        },
        "outputId": "e0bb0c85-219f-48ad-9fae-ddc60fc33766"
      },
      "outputs": [],
      "source": [
        "# YOUR CODE HERE\n",
        "# Define the parameter grid for the clf\n",
        "param_gridMLP = {\n",
        "    'clf__learning_rate_init': [0.001, 0.0001],\n",
        "    'clf__alpha': [0.0001, 1]\n",
        "}\n",
        "\n",
        "# Perform the grid search for MLPClassifier\n",
        "from sklearn.model_selection import cross_val_score\n",
        "from sklearn.model_selection import GridSearchCV\n",
        "grid_search = GridSearchCV(pipe, param_gridMLP, cv=3, n_jobs=-2)\n",
        "grid_search.fit(X_train, y_train)\n",
        "\n",
        "training_score = grid_search.best_score_\n",
        "training_score"
      ]
    },
    {
      "cell_type": "code",
      "execution_count": null,
      "metadata": {
        "deletable": false,
        "editable": false,
        "id": "cm8q525XEUzB",
        "nbgrader": {
          "cell_type": "code",
          "checksum": "05d5d276d10509d7e04afe8777be0920",
          "grade": true,
          "grade_id": "test3_1",
          "locked": true,
          "points": 0.75,
          "schema_version": 3,
          "solution": false,
          "task": false
        }
      },
      "outputs": [],
      "source": [
        "# LEAVE BLANK"
      ]
    },
    {
      "cell_type": "code",
      "execution_count": null,
      "metadata": {
        "deletable": false,
        "editable": false,
        "id": "zqPmNv_qEUzC",
        "nbgrader": {
          "cell_type": "code",
          "checksum": "d97eb6081c645f993eefea334d79e585",
          "grade": true,
          "grade_id": "test3_2",
          "locked": true,
          "points": 0.25,
          "schema_version": 3,
          "solution": false,
          "task": false
        }
      },
      "outputs": [],
      "source": [
        "# LEAVE BLANK"
      ]
    },
    {
      "cell_type": "code",
      "execution_count": null,
      "metadata": {
        "deletable": false,
        "editable": false,
        "id": "lKVchrIJEUzD",
        "nbgrader": {
          "cell_type": "code",
          "checksum": "ee67c8bbe91508c9db4e00142002da32",
          "grade": true,
          "grade_id": "test3_3",
          "locked": true,
          "points": 0.5,
          "schema_version": 3,
          "solution": false,
          "task": false
        }
      },
      "outputs": [],
      "source": [
        "# LEAVE BLANK"
      ]
    },
    {
      "cell_type": "markdown",
      "metadata": {
        "deletable": false,
        "editable": false,
        "id": "W52Pspa8EUzD",
        "nbgrader": {
          "cell_type": "markdown",
          "checksum": "aed9123f1c6a8bc7b6e7e6a9f059ad44",
          "grade": false,
          "grade_id": "cell-cacsdfabrtw84bcasdfa",
          "locked": true,
          "schema_version": 3,
          "solution": false,
          "task": false
        }
      },
      "source": [
        "<div class=\"alert alert-info\"><b>Exercise 4</b>\n",
        "    \n",
        "Write the code to compute the real achieved ```score``` of the previous grid search to check whether your model is doing overfitting or not.\n",
        "    \n",
        "<br><i>[1 point]</i>\n",
        "</div>"
      ]
    },
    {
      "cell_type": "code",
      "execution_count": null,
      "metadata": {
        "colab": {
          "base_uri": "https://localhost:8080/"
        },
        "deletable": false,
        "id": "ynHccdF6EUzE",
        "nbgrader": {
          "cell_type": "code",
          "checksum": "00ef2091bcd0c6ccc4ed66e901f1fff9",
          "grade": false,
          "grade_id": "ex4",
          "locked": false,
          "schema_version": 3,
          "solution": true,
          "task": false
        },
        "outputId": "e8c6c5e0-ca96-415b-ccc3-4adfd336348f"
      },
      "outputs": [],
      "source": [
        "score = grid_search.best_estimator_.score(X_test, y_test)\n",
        "score"
      ]
    },
    {
      "cell_type": "code",
      "execution_count": null,
      "metadata": {
        "deletable": false,
        "editable": false,
        "id": "BqtTcooNEUzF",
        "nbgrader": {
          "cell_type": "code",
          "checksum": "b17bd4ec4b5f3542195269b854037fab",
          "grade": true,
          "grade_id": "test4_1",
          "locked": true,
          "points": 0.5,
          "schema_version": 3,
          "solution": false,
          "task": false
        }
      },
      "outputs": [],
      "source": [
        "# LEAVE BLANK"
      ]
    },
    {
      "cell_type": "code",
      "execution_count": null,
      "metadata": {
        "deletable": false,
        "editable": false,
        "id": "EOSxsMk1EUzG",
        "nbgrader": {
          "cell_type": "code",
          "checksum": "0c0e6661a3a6e8e3fbe7df8cdb12a90f",
          "grade": true,
          "grade_id": "test4_2",
          "locked": true,
          "points": 0.5,
          "schema_version": 3,
          "solution": false,
          "task": false
        }
      },
      "outputs": [],
      "source": [
        "# LEAVE BLANK"
      ]
    },
    {
      "cell_type": "markdown",
      "metadata": {
        "deletable": false,
        "editable": false,
        "id": "pOwCRF-4EUzG",
        "nbgrader": {
          "cell_type": "markdown",
          "checksum": "8cfa7277c01a7dbc8ff42f2a256f8804",
          "grade": false,
          "grade_id": "cell-cac60b3d5artw84ba",
          "locked": true,
          "schema_version": 3,
          "solution": false,
          "task": false
        }
      },
      "source": [
        "<div class=\"alert alert-info\"><b>Exercise 5</b>\n",
        "\n",
        "The previous exercises use the scikit learn MLP classifier. Now create an MLP classifier using the Keras library. You can use any tutorial, website, or documentation for this task. Describe how you preprocessed the dataset, the network architecture used, and any trick you employed in the exercise.\n",
        "    \n",
        "<br><i>[5 points]</i>\n",
        "</div>"
      ]
    },
    {
      "cell_type": "code",
      "execution_count": null,
      "metadata": {
        "deletable": false,
        "id": "46eDzLegEUzH",
        "nbgrader": {
          "cell_type": "code",
          "checksum": "d63da504327f2eb69ca079359b186511",
          "grade": true,
          "grade_id": "ex7",
          "locked": false,
          "points": 5,
          "schema_version": 3,
          "solution": true,
          "task": false
        }
      },
      "outputs": [],
      "source": [
        "#Import the dataframe df2 \n",
        "\n",
        "df2=pd.read_csv(\"https://github.com/jnin/information-systems/raw/main/data/hfi_cc_2021.csv\")\n",
        "\n",
        "#Remove missing values in the target variable\n",
        "\n",
        "df2.dropna(subset=['hf_quartile'], inplace=True)\n",
        "\n",
        "#Remove columns suggested in exercise instructions\n",
        "\n",
        "df2 = df2.drop(columns=['year', 'ISO', 'countries'])\n",
        "df2=df2.drop(list(df2.filter(regex='rank')), axis=1)\n",
        "df2=df2.drop(list(df2.filter(regex='score')), axis=1)\n",
        "df2['hf_quartile'] = pd.Categorical(df2.hf_quartile)\n",
        "\n",
        "#create X and Y\n",
        "\n",
        "y = df2['hf_quartile']\n",
        "X = df2.drop(columns=['hf_quartile'])\n",
        "\n",
        "#Test_train split\n",
        "\n",
        "from sklearn.model_selection import train_test_split\n",
        "X_train, X_test, y_train, y_test = train_test_split (X, y, test_size=0.25, random_state=42)\n",
        "\n",
        "#Preprocess X_train, X_test by imputing missing values, onehotencoding the categorical values, and scaling the data\n",
        "\n",
        "from sklearn.compose import ColumnTransformer\n",
        "from sklearn.pipeline import Pipeline \n",
        "from sklearn.impute import SimpleImputer\n",
        "\n",
        "simpleimputer=SimpleImputer(strategy='most_frequent')\n",
        "onehotencoder = OneHotEncoder(sparse=False)\n",
        "transformer = ColumnTransformer([('ohe', onehotencoder, [0])], remainder= 'passthrough')\n",
        "pipe_steps = [('imputer', simpleimputer), ('transformer', transformer), ('scaler', StandardScaler())]\n",
        "pipe = Pipeline(pipe_steps)\n",
        "\n",
        "X_train_preprocessed = pd.DataFrame(pipe.fit_transform(X_train))\n",
        "X_test_preprocessed = pd.DataFrame(pipe.fit_transform(X_test))\n",
        "\n",
        "#One hot encode y_train and y_test \n",
        "\n",
        "from sklearn.preprocessing import OneHotEncoder\n",
        "\n",
        "y_train = pd.DataFrame(y_train)\n",
        "y_test = pd.DataFrame(y_test)\n",
        "\n",
        "onehotencoder = OneHotEncoder(sparse=False)\n",
        "\n",
        "y_train_enc = pd.DataFrame(onehotencoder.fit_transform(y_train[['hf_quartile']]))\n",
        "y_test_enc = pd.DataFrame(onehotencoder.fit_transform(y_test[['hf_quartile']]))"
      ]
    },
    {
      "cell_type": "code",
      "execution_count": null,
      "metadata": {
        "colab": {
          "base_uri": "https://localhost:8080/"
        },
        "id": "gZk91FO7Evdo",
        "outputId": "bc40d8e9-1432-4aa0-8afb-65b6ae0135ed"
      },
      "outputs": [],
      "source": [
        "pip install -q -U keras-tuner"
      ]
    },
    {
      "cell_type": "code",
      "execution_count": null,
      "metadata": {
        "colab": {
          "base_uri": "https://localhost:8080/"
        },
        "id": "38gKatP9EwbW",
        "outputId": "966d0d26-0a76-4cf8-f7ab-9e400e736145"
      },
      "outputs": [],
      "source": [
        "#Format the data properly to be used by Keras\n",
        "\n",
        "X_train_preprocessed=np.asarray(X_train_preprocessed).astype(np.float64)\n",
        "y_train_enc=np.asarray(y_train_enc).astype(np.float64)\n",
        "X_test_preprocessed=np.asarray(X_test_preprocessed).astype(np.float64)\n",
        "y_test_enc=np.asarray(y_test_enc).astype(np.float64)\n",
        "\n",
        "import tensorflow as tf\n",
        "from tensorflow import keras\n",
        "from tensorflow.keras import layers\n",
        "from tensorflow.keras import optimizers\n",
        "from kerastuner.tuners import BayesianOptimization\n",
        "\n",
        "# Define the model builder function for the tuner. In this function, we indicate the hyperparameters we are out to optimize. \n",
        "#In this case, we are optimizing the number of layers in our Neural network (between 2 and 5), the number of neurons per layer (between 32 and 512),\n",
        "#the learning rate (0.01, 0.001, 0.0001), and the activation function (relu, Sigmoid, or tanh). \n",
        "# The model performance metric we will be aiming to optimize is the accuracy.\n",
        "def build_model(hp):\n",
        "    model = keras.Sequential()\n",
        "    model.add(layers.Flatten(input_shape=(X_train_preprocessed.shape[1],)))\n",
        "    for i in range(hp.Int('num_layers', 2, 5)):\n",
        "        model.add(layers.Dense(units=hp.Int('units_' + str(i),\n",
        "                                            min_value=32,\n",
        "                                            max_value=512,\n",
        "                                            step=32),\n",
        "                               activation=hp.Choice('act_' + str(i),\n",
        "                                                    values=['relu', 'tanh', 'sigmoid'])))\n",
        "    model.add(layers.Dense(4, activation='softmax'))\n",
        "    model.compile(\n",
        "        optimizer=optimizers.Adam(\n",
        "            hp.Choice('learning_rate', values=[1e-2, 1e-3, 1e-4])),\n",
        "        #Since we are solving a classification task, setting the categorical crossentropy as the loss was considered better practice\n",
        "        #than using anorther loss hyperparamter such as the mean squared error, which is more suited to regression tasks\n",
        "        loss=\"categorical_crossentropy\",\n",
        "        metrics=['accuracy'])\n",
        "    return model\n",
        "\n",
        "# Instantiate the tuner, within which we implement our build_model function, an indicate the objective metric to optimize\n",
        "#as well as the trials and executions numbers\n",
        "tuner = BayesianOptimization(\n",
        "    build_model,\n",
        "    objective='val_accuracy',\n",
        "    max_trials=10,\n",
        "    executions_per_trial=2)\n",
        "\n",
        "# Search for the best hyperparameters\n",
        "tuner.search(X_train_preprocessed, y_train_enc,\n",
        "             epochs=10,\n",
        "             validation_split=0.2)\n",
        "\n",
        "# Get the best model\n",
        "best_model = tuner.get_best_models(num_models=1)[0]\n",
        "\n",
        "# Evaluate the best model on the test set\n",
        "test_loss, test_acc = best_model.evaluate(X_test_preprocessed, y_test_enc)\n",
        "print('Test accuracy:', test_acc)\n",
        "\n",
        "best_hps = tuner.get_best_hyperparameters(num_trials=1)[0]\n",
        "\n",
        "# Print the best hyperparameters\n",
        "print(f\"Number of layers: {best_hps.get('num_layers')}\")\n",
        "for i in range(best_hps.get('num_layers')):\n",
        "    print(f\"Units in layer {i}: {best_hps.get('units_' + str(i))}\")\n",
        "    print(f\"Activation function in layer {i}: {best_hps.get('act_' + str(i))}\")\n",
        "print(f\"Learning rate: {best_hps.get('learning_rate')}\")"
      ]
    }
  ],
  "metadata": {
    "colab": {
      "provenance": []
    },
    "kernelspec": {
      "display_name": "Python 3",
      "language": "python",
      "name": "python3"
    },
    "language_info": {
      "codemirror_mode": {
        "name": "ipython",
        "version": 3
      },
      "file_extension": ".py",
      "mimetype": "text/x-python",
      "name": "python",
      "nbconvert_exporter": "python",
      "pygments_lexer": "ipython3",
      "version": "3.10.6 (v3.10.6:9c7b4bd164, Aug  1 2022, 17:13:48) [Clang 13.0.0 (clang-1300.0.29.30)]"
    },
    "vscode": {
      "interpreter": {
        "hash": "aee8b7b246df8f9039afb4144a1f6fd8d2ca17a180786b69acc140d282b71a49"
      }
    }
  },
  "nbformat": 4,
  "nbformat_minor": 0
}
